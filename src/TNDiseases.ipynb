{
 "cells": [
  {
   "cell_type": "code",
   "execution_count": 13,
   "id": "46d1fc87",
   "metadata": {},
   "outputs": [],
   "source": [
    "from utils import *\n",
    "#from kg_gen_4_onlyProts import *\n",
    "import pickle\n",
    "from kg_gen_3 import *\n",
    "\n",
    "from IPython.display import Markdown, display"
   ]
  },
  {
   "cell_type": "code",
   "execution_count": 14,
   "id": "a2cb8a2a",
   "metadata": {},
   "outputs": [
    {
     "data": {
      "text/plain": [
       "46"
      ]
     },
     "execution_count": 14,
     "metadata": {},
     "output_type": "execute_result"
    }
   ],
   "source": [
    "data = pd.read_excel('../data/chembl_search_nd.xlsx')\n",
    "chembl = list(set(data['chembl_id']))\n",
    "len(chembl)"
   ]
  },
  {
   "cell_type": "code",
   "execution_count": 15,
   "id": "ad6b639e",
   "metadata": {},
   "outputs": [
    {
     "data": {
      "text/html": [
       "<div>\n",
       "<style scoped>\n",
       "    .dataframe tbody tr th:only-of-type {\n",
       "        vertical-align: middle;\n",
       "    }\n",
       "\n",
       "    .dataframe tbody tr th {\n",
       "        vertical-align: top;\n",
       "    }\n",
       "\n",
       "    .dataframe thead th {\n",
       "        text-align: right;\n",
       "    }\n",
       "</style>\n",
       "<table border=\"1\" class=\"dataframe\">\n",
       "  <thead>\n",
       "    <tr style=\"text-align: right;\">\n",
       "      <th></th>\n",
       "      <th>chembl_id</th>\n",
       "      <th>pref_name</th>\n",
       "      <th>canonical_smiles</th>\n",
       "      <th>standard_inchi</th>\n",
       "      <th>standard_inchi_key</th>\n",
       "      <th>max_phase</th>\n",
       "      <th>indication_class</th>\n",
       "      <th>withdrawn_flag</th>\n",
       "      <th>black_box_warning</th>\n",
       "      <th>drugind_id</th>\n",
       "      <th>max_phase_for_ind</th>\n",
       "      <th>mesh_id</th>\n",
       "      <th>mesh_heading</th>\n",
       "      <th>ref_type</th>\n",
       "      <th>ref_id</th>\n",
       "      <th>ref_url</th>\n",
       "    </tr>\n",
       "  </thead>\n",
       "  <tbody>\n",
       "    <tr>\n",
       "      <th>0</th>\n",
       "      <td>CHEMBL1200689</td>\n",
       "      <td>NITRIC OXIDE</td>\n",
       "      <td>[N]=O</td>\n",
       "      <td>InChI=1S/NO/c1-2</td>\n",
       "      <td>MWUXSHHQAYIFBG-UHFFFAOYSA-N</td>\n",
       "      <td>4</td>\n",
       "      <td>NaN</td>\n",
       "      <td>0</td>\n",
       "      <td>0</td>\n",
       "      <td>23580</td>\n",
       "      <td>3</td>\n",
       "      <td>D016773</td>\n",
       "      <td>Leishmaniasis, Cutaneous</td>\n",
       "      <td>ClinicalTrials</td>\n",
       "      <td>NCT00317629</td>\n",
       "      <td>https://clinicaltrials.gov/ct2/results?id=%22N...</td>\n",
       "    </tr>\n",
       "    <tr>\n",
       "      <th>1</th>\n",
       "      <td>CHEMBL131</td>\n",
       "      <td>PREDNISOLONE</td>\n",
       "      <td>C[C@]12C=CC(=O)C=C1CC[C@@H]1[C@@H]2[C@@H](O)C[...</td>\n",
       "      <td>InChI=1S/C21H28O5/c1-19-7-5-13(23)9-12(19)3-4-...</td>\n",
       "      <td>OIGNJSKKLXVSLS-VWUMJDOOSA-N</td>\n",
       "      <td>4</td>\n",
       "      <td>Glucocorticoid</td>\n",
       "      <td>0</td>\n",
       "      <td>0</td>\n",
       "      <td>24801</td>\n",
       "      <td>2</td>\n",
       "      <td>D007918</td>\n",
       "      <td>Leprosy</td>\n",
       "      <td>ClinicalTrials</td>\n",
       "      <td>NCT00919542,NCT00919776,NCT00919815</td>\n",
       "      <td>https://clinicaltrials.gov/ct2/results?id=%22N...</td>\n",
       "    </tr>\n",
       "    <tr>\n",
       "      <th>2</th>\n",
       "      <td>CHEMBL160</td>\n",
       "      <td>CYCLOSPORINE</td>\n",
       "      <td>C/C=C/C[C@@H](C)[C@@H](O)[C@H]1C(=O)N[C@@H](CC...</td>\n",
       "      <td>InChI=1S/C62H111N11O12/c1-25-27-28-40(15)52(75...</td>\n",
       "      <td>PMATZTZNYRCHOR-CGLBZJNRSA-N</td>\n",
       "      <td>4</td>\n",
       "      <td>Immunosuppressant</td>\n",
       "      <td>0</td>\n",
       "      <td>1</td>\n",
       "      <td>25201</td>\n",
       "      <td>2</td>\n",
       "      <td>D007918</td>\n",
       "      <td>Leprosy</td>\n",
       "      <td>ClinicalTrials</td>\n",
       "      <td>NCT00919451,NCT00919542,NCT00919776,NCT00919815</td>\n",
       "      <td>https://clinicaltrials.gov/ct2/results?id=%22N...</td>\n",
       "    </tr>\n",
       "    <tr>\n",
       "      <th>3</th>\n",
       "      <td>CHEMBL628</td>\n",
       "      <td>PENTOXIFYLLINE</td>\n",
       "      <td>CC(=O)CCCCn1c(=O)c2c(ncn2C)n(C)c1=O</td>\n",
       "      <td>InChI=1S/C13H18N4O3/c1-9(18)6-4-5-7-17-12(19)1...</td>\n",
       "      <td>BYPFEZZEUUWMEJ-UHFFFAOYSA-N</td>\n",
       "      <td>4</td>\n",
       "      <td>Vasodilator</td>\n",
       "      <td>0</td>\n",
       "      <td>0</td>\n",
       "      <td>26814</td>\n",
       "      <td>2</td>\n",
       "      <td>D016773</td>\n",
       "      <td>Leishmaniasis, Cutaneous</td>\n",
       "      <td>ClinicalTrials</td>\n",
       "      <td>NCT01381055,NCT01464242</td>\n",
       "      <td>https://clinicaltrials.gov/ct2/results?id=%22N...</td>\n",
       "    </tr>\n",
       "    <tr>\n",
       "      <th>4</th>\n",
       "      <td>CHEMBL1631694</td>\n",
       "      <td>FEXINIDAZOLE</td>\n",
       "      <td>CSc1ccc(OCc2ncc([N+](=O)[O-])n2C)cc1</td>\n",
       "      <td>InChI=1S/C12H13N3O3S/c1-14-11(13-7-12(14)15(16...</td>\n",
       "      <td>MIWWSGDADVMLTG-UHFFFAOYSA-N</td>\n",
       "      <td>4</td>\n",
       "      <td>NaN</td>\n",
       "      <td>0</td>\n",
       "      <td>0</td>\n",
       "      <td>40610</td>\n",
       "      <td>2</td>\n",
       "      <td>D007898</td>\n",
       "      <td>Leishmaniasis, Visceral</td>\n",
       "      <td>ClinicalTrials</td>\n",
       "      <td>NCT01980199</td>\n",
       "      <td>https://clinicaltrials.gov/ct2/results?id=%22N...</td>\n",
       "    </tr>\n",
       "  </tbody>\n",
       "</table>\n",
       "</div>"
      ],
      "text/plain": [
       "       chembl_id       pref_name  \\\n",
       "0  CHEMBL1200689    NITRIC OXIDE   \n",
       "1      CHEMBL131    PREDNISOLONE   \n",
       "2      CHEMBL160    CYCLOSPORINE   \n",
       "3      CHEMBL628  PENTOXIFYLLINE   \n",
       "4  CHEMBL1631694    FEXINIDAZOLE   \n",
       "\n",
       "                                    canonical_smiles  \\\n",
       "0                                              [N]=O   \n",
       "1  C[C@]12C=CC(=O)C=C1CC[C@@H]1[C@@H]2[C@@H](O)C[...   \n",
       "2  C/C=C/C[C@@H](C)[C@@H](O)[C@H]1C(=O)N[C@@H](CC...   \n",
       "3                CC(=O)CCCCn1c(=O)c2c(ncn2C)n(C)c1=O   \n",
       "4               CSc1ccc(OCc2ncc([N+](=O)[O-])n2C)cc1   \n",
       "\n",
       "                                      standard_inchi  \\\n",
       "0                                   InChI=1S/NO/c1-2   \n",
       "1  InChI=1S/C21H28O5/c1-19-7-5-13(23)9-12(19)3-4-...   \n",
       "2  InChI=1S/C62H111N11O12/c1-25-27-28-40(15)52(75...   \n",
       "3  InChI=1S/C13H18N4O3/c1-9(18)6-4-5-7-17-12(19)1...   \n",
       "4  InChI=1S/C12H13N3O3S/c1-14-11(13-7-12(14)15(16...   \n",
       "\n",
       "            standard_inchi_key  max_phase   indication_class  withdrawn_flag  \\\n",
       "0  MWUXSHHQAYIFBG-UHFFFAOYSA-N          4                NaN               0   \n",
       "1  OIGNJSKKLXVSLS-VWUMJDOOSA-N          4     Glucocorticoid               0   \n",
       "2  PMATZTZNYRCHOR-CGLBZJNRSA-N          4  Immunosuppressant               0   \n",
       "3  BYPFEZZEUUWMEJ-UHFFFAOYSA-N          4        Vasodilator               0   \n",
       "4  MIWWSGDADVMLTG-UHFFFAOYSA-N          4                NaN               0   \n",
       "\n",
       "   black_box_warning  drugind_id  max_phase_for_ind  mesh_id  \\\n",
       "0                  0       23580                  3  D016773   \n",
       "1                  0       24801                  2  D007918   \n",
       "2                  1       25201                  2  D007918   \n",
       "3                  0       26814                  2  D016773   \n",
       "4                  0       40610                  2  D007898   \n",
       "\n",
       "               mesh_heading        ref_type  \\\n",
       "0  Leishmaniasis, Cutaneous  ClinicalTrials   \n",
       "1                   Leprosy  ClinicalTrials   \n",
       "2                   Leprosy  ClinicalTrials   \n",
       "3  Leishmaniasis, Cutaneous  ClinicalTrials   \n",
       "4   Leishmaniasis, Visceral  ClinicalTrials   \n",
       "\n",
       "                                            ref_id  \\\n",
       "0                                      NCT00317629   \n",
       "1              NCT00919542,NCT00919776,NCT00919815   \n",
       "2  NCT00919451,NCT00919542,NCT00919776,NCT00919815   \n",
       "3                          NCT01381055,NCT01464242   \n",
       "4                                      NCT01980199   \n",
       "\n",
       "                                             ref_url  \n",
       "0  https://clinicaltrials.gov/ct2/results?id=%22N...  \n",
       "1  https://clinicaltrials.gov/ct2/results?id=%22N...  \n",
       "2  https://clinicaltrials.gov/ct2/results?id=%22N...  \n",
       "3  https://clinicaltrials.gov/ct2/results?id=%22N...  \n",
       "4  https://clinicaltrials.gov/ct2/results?id=%22N...  "
      ]
     },
     "execution_count": 15,
     "metadata": {},
     "output_type": "execute_result"
    }
   ],
   "source": [
    "data.head()"
   ]
  },
  {
   "cell_type": "markdown",
   "id": "5b87c5e1",
   "metadata": {},
   "source": [
    "# Part 1: Working with drugs"
   ]
  },
  {
   "cell_type": "code",
   "execution_count": 16,
   "id": "d1eb0d30",
   "metadata": {},
   "outputs": [
    {
     "data": {
      "application/vnd.jupyter.widget-view+json": {
       "model_id": "7416762d437e47cd9e345f405b017464",
       "version_major": 2,
       "version_minor": 0
      },
      "text/plain": [
       "Retrieving bioassays from ChEMBL:   0%|          | 0/46 [00:00<?, ?it/s]"
      ]
     },
     "metadata": {},
     "output_type": "display_data"
    }
   ],
   "source": [
    "#Retrieve active assays (B|F) and target proteins\n",
    "chem2act = RetAct(chembl)"
   ]
  },
  {
   "cell_type": "code",
   "execution_count": 17,
   "id": "68adafaf",
   "metadata": {},
   "outputs": [
    {
     "data": {
      "application/vnd.jupyter.widget-view+json": {
       "model_id": "143843c727b54682beea115bd6bf057a",
       "version_major": 2,
       "version_minor": 0
      },
      "text/plain": [
       "Retrieving mechanisms from ChEMBL:   0%|          | 0/46 [00:00<?, ?it/s]"
      ]
     },
     "metadata": {},
     "output_type": "display_data"
    }
   ],
   "source": [
    "#Retrieve mech of actions\n",
    "chem2mech = RetMech(chembl)"
   ]
  },
  {
   "cell_type": "code",
   "execution_count": 19,
   "id": "0a06050c",
   "metadata": {},
   "outputs": [
    {
     "data": {
      "application/vnd.jupyter.widget-view+json": {
       "model_id": "5df5f33ec2e14413a37c889def3b1621",
       "version_major": 2,
       "version_minor": 0
      },
      "text/plain": [
       "Retrieving diseases from ChEMBL:   0%|          | 0/46 [00:00<?, ?it/s]"
      ]
     },
     "metadata": {},
     "output_type": "display_data"
    }
   ],
   "source": [
    "#Retrieve disease indications\n",
    "chembl2dis = RetDrugInd(chembl)"
   ]
  },
  {
   "cell_type": "code",
   "execution_count": 20,
   "id": "cb0bb294",
   "metadata": {},
   "outputs": [
    {
     "data": {
      "text/plain": [
       "67"
      ]
     },
     "execution_count": 20,
     "metadata": {},
     "output_type": "execute_result"
    }
   ],
   "source": [
    "#get proteins from chem2act and chem2mech from above. They have their own set of target proteins\n",
    "\n",
    "prtn_as_chembl = Ret_chembl_protein(chem2act) + Ret_chembl_protein(chem2mech)\n",
    "prtn_as_chembl = list(set(prtn_as_chembl))\n",
    "len(prtn_as_chembl)"
   ]
  },
  {
   "cell_type": "code",
   "execution_count": null,
   "id": "b017fbbb",
   "metadata": {},
   "outputs": [],
   "source": [
    "# #put the prots together\n",
    "# prot = prot + prtn_as_chembl\n",
    "# prot = list(set(prot))\n",
    "# len(prot)"
   ]
  },
  {
   "cell_type": "code",
   "execution_count": 22,
   "id": "0f4d8196",
   "metadata": {},
   "outputs": [
    {
     "data": {
      "application/vnd.jupyter.widget-view+json": {
       "model_id": "e5c588627e044cf2b279560cb1f2677b",
       "version_major": 2,
       "version_minor": 0
      },
      "text/plain": [
       "Filtering UniProt proteins from ChEMBL:   0%|          | 0/67 [00:00<?, ?it/s]"
      ]
     },
     "metadata": {},
     "output_type": "display_data"
    },
    {
     "data": {
      "application/vnd.jupyter.widget-view+json": {
       "model_id": "2f074277268a4e7baed99c1e8d2242ce",
       "version_major": 2,
       "version_minor": 0
      },
      "text/plain": [
       "Filtering human proteins from ChEMBL:   0%|          | 0/64 [00:00<?, ?it/s]"
      ]
     },
     "metadata": {},
     "output_type": "display_data"
    },
    {
     "data": {
      "application/vnd.jupyter.widget-view+json": {
       "model_id": "e0b1c5e4fbc5498e947845ef2984259c",
       "version_major": 2,
       "version_minor": 0
      },
      "text/plain": [
       "Populating ChEMBL data for human proteins:   0%|          | 0/58 [00:00<?, ?it/s]"
      ]
     },
     "metadata": {},
     "output_type": "display_data"
    }
   ],
   "source": [
    "#fetch gene symbols for proteins with chembl ids and extend to known pathways they are involved in\n",
    "\n",
    "chembl2uprot = chembl2uniprot(prtn_as_chembl)"
   ]
  },
  {
   "cell_type": "code",
   "execution_count": 24,
   "id": "13b2d4f5",
   "metadata": {},
   "outputs": [],
   "source": [
    "#update chembl protein with gene symbols\n",
    "chembl2act = chembl2gene2path(chembl2uprot, chem2act)\n",
    "chembl2mech = chembl2gene2path(chembl2uprot, chem2mech)"
   ]
  },
  {
   "cell_type": "code",
   "execution_count": 25,
   "id": "9e89ee61",
   "metadata": {},
   "outputs": [
    {
     "data": {
      "application/vnd.jupyter.widget-view+json": {
       "model_id": "f42146033c6f42bbb5823b8dd65355f7",
       "version_major": 2,
       "version_minor": 0
      },
      "text/plain": [
       "Retrieving Adverse Effects for each drug:   0%|          | 0/46 [00:00<?, ?it/s]"
      ]
     },
     "metadata": {},
     "output_type": "display_data"
    }
   ],
   "source": [
    "#Adv effect for drugs\n",
    "advEff = GetAdverseEvents(chembl)"
   ]
  },
  {
   "cell_type": "code",
   "execution_count": 26,
   "id": "2b295a2d",
   "metadata": {},
   "outputs": [
    {
     "data": {
      "application/vnd.jupyter.widget-view+json": {
       "model_id": "73b3167c88f34b4bbec5443800958b02",
       "version_major": 2,
       "version_minor": 0
      },
      "text/plain": [
       "Retrieving drug warnings for each drug:   0%|          | 0/46 [00:00<?, ?it/s]"
      ]
     },
     "metadata": {},
     "output_type": "display_data"
    }
   ],
   "source": [
    "#Drug warnings for drugs\n",
    "drugWarn = GetDrugWarnings(chembl)"
   ]
  },
  {
   "cell_type": "markdown",
   "id": "5801e763",
   "metadata": {},
   "source": [
    "# Part 2: Working with Proteins"
   ]
  },
  {
   "cell_type": "markdown",
   "id": "6ba338fe",
   "metadata": {},
   "source": [
    "# Using API from https://jcheminf.biomedcentral.com/articles/10.1186/s13321-018-0325-4 integrated in ChEMBL to fetch targeted predictions"
   ]
  },
  {
   "cell_type": "code",
   "execution_count": 27,
   "id": "68c1b95b",
   "metadata": {},
   "outputs": [
    {
     "data": {
      "application/vnd.jupyter.widget-view+json": {
       "model_id": "9dfbd0ce4a184f149a2dcc7b740aad38",
       "version_major": 2,
       "version_minor": 0
      },
      "text/plain": [
       "Getting SMILES for CHEMBL ids and generating descriptors:   0%|          | 0/46 [00:00<?, ?it/s]"
      ]
     },
     "metadata": {},
     "output_type": "display_data"
    }
   ],
   "source": [
    "chem_df = GetSmiles(pd.DataFrame(chembl,columns=['drugId']))"
   ]
  },
  {
   "cell_type": "code",
   "execution_count": 28,
   "id": "db33ae5a",
   "metadata": {},
   "outputs": [
    {
     "data": {
      "application/vnd.jupyter.widget-view+json": {
       "model_id": "124998b33d2c421fa5039cd70e151b36",
       "version_major": 2,
       "version_minor": 0
      },
      "text/plain": [
       "  0%|          | 0/46 [00:00<?, ?it/s]"
      ]
     },
     "metadata": {},
     "output_type": "display_data"
    }
   ],
   "source": [
    "#Fetch targeted predictions for drugs from chembl, Threshold: 90%, usecase: NTD\n",
    "\n",
    "final_df = pd.DataFrame()\n",
    "\n",
    "#for smiles in tqdm(chem_df['smiles']):\n",
    "for i in tqdm(range(len(chem_df))):\n",
    "    \n",
    "    headers = {\n",
    "    'Content-Type': 'application/json',\n",
    "    }\n",
    "\n",
    "    json_data = {\n",
    "        'smiles': chem_df['smiles'][i],\n",
    "    }\n",
    "\n",
    "    response = requests.post('https://www.ebi.ac.uk/chembl/target-predictions', headers=headers, json=json_data)\n",
    "    response = response.json()\n",
    "    response = pd.DataFrame(response)\n",
    "    #print(type(response))\n",
    "    #print(response)\n",
    "    \n",
    "    #if not response.emtpy:\n",
    "    response = response[(response['organism']=='Homo sapiens') & (response['90%']=='active')]\n",
    "    response['drugid'] = chem_df['drugId'][i]\n",
    "        \n",
    "    #if not response.emtpy:\n",
    "    final_df = pd.concat([final_df,response])\n",
    "    \n",
    "    "
   ]
  },
  {
   "cell_type": "code",
   "execution_count": 29,
   "id": "ac92042b",
   "metadata": {},
   "outputs": [],
   "source": [
    "final_df.reset_index(drop=True, inplace=True)"
   ]
  },
  {
   "cell_type": "code",
   "execution_count": 30,
   "id": "0bc047ee",
   "metadata": {},
   "outputs": [
    {
     "data": {
      "text/html": [
       "<div>\n",
       "<style scoped>\n",
       "    .dataframe tbody tr th:only-of-type {\n",
       "        vertical-align: middle;\n",
       "    }\n",
       "\n",
       "    .dataframe tbody tr th {\n",
       "        vertical-align: top;\n",
       "    }\n",
       "\n",
       "    .dataframe thead th {\n",
       "        text-align: right;\n",
       "    }\n",
       "</style>\n",
       "<table border=\"1\" class=\"dataframe\">\n",
       "  <thead>\n",
       "    <tr style=\"text-align: right;\">\n",
       "      <th></th>\n",
       "      <th>target_chemblid</th>\n",
       "      <th>organism</th>\n",
       "      <th>pref_name</th>\n",
       "      <th>70%</th>\n",
       "      <th>80%</th>\n",
       "      <th>90%</th>\n",
       "      <th>threshold</th>\n",
       "      <th>drugid</th>\n",
       "    </tr>\n",
       "  </thead>\n",
       "  <tbody>\n",
       "    <tr>\n",
       "      <th>0</th>\n",
       "      <td>CHEMBL2157850</td>\n",
       "      <td>Homo sapiens</td>\n",
       "      <td>Ubiquitin carboxyl-terminal hydrolase 7</td>\n",
       "      <td>empty</td>\n",
       "      <td>empty</td>\n",
       "      <td>active</td>\n",
       "      <td>6.0</td>\n",
       "      <td>CHEMBL370143</td>\n",
       "    </tr>\n",
       "    <tr>\n",
       "      <th>1</th>\n",
       "      <td>CHEMBL4618</td>\n",
       "      <td>Homo sapiens</td>\n",
       "      <td>Leukotriene A4 hydrolase</td>\n",
       "      <td>empty</td>\n",
       "      <td>active</td>\n",
       "      <td>active</td>\n",
       "      <td>6.0</td>\n",
       "      <td>CHEMBL370143</td>\n",
       "    </tr>\n",
       "    <tr>\n",
       "      <th>2</th>\n",
       "      <td>CHEMBL5880</td>\n",
       "      <td>Homo sapiens</td>\n",
       "      <td>Interleukin-2</td>\n",
       "      <td>active</td>\n",
       "      <td>active</td>\n",
       "      <td>active</td>\n",
       "      <td>6.0</td>\n",
       "      <td>CHEMBL370143</td>\n",
       "    </tr>\n",
       "    <tr>\n",
       "      <th>3</th>\n",
       "      <td>CHEMBL2111432</td>\n",
       "      <td>Homo sapiens</td>\n",
       "      <td>PI3-kinase p110-delta/p85-alpha</td>\n",
       "      <td>active</td>\n",
       "      <td>active</td>\n",
       "      <td>active</td>\n",
       "      <td>6.0</td>\n",
       "      <td>CHEMBL370143</td>\n",
       "    </tr>\n",
       "    <tr>\n",
       "      <th>4</th>\n",
       "      <td>CHEMBL3004</td>\n",
       "      <td>Homo sapiens</td>\n",
       "      <td>Multidrug resistance-associated protein 1</td>\n",
       "      <td>empty</td>\n",
       "      <td>empty</td>\n",
       "      <td>active</td>\n",
       "      <td>6.0</td>\n",
       "      <td>CHEMBL370143</td>\n",
       "    </tr>\n",
       "  </tbody>\n",
       "</table>\n",
       "</div>"
      ],
      "text/plain": [
       "  target_chemblid      organism                                  pref_name  \\\n",
       "0   CHEMBL2157850  Homo sapiens    Ubiquitin carboxyl-terminal hydrolase 7   \n",
       "1      CHEMBL4618  Homo sapiens                   Leukotriene A4 hydrolase   \n",
       "2      CHEMBL5880  Homo sapiens                              Interleukin-2   \n",
       "3   CHEMBL2111432  Homo sapiens            PI3-kinase p110-delta/p85-alpha   \n",
       "4      CHEMBL3004  Homo sapiens  Multidrug resistance-associated protein 1   \n",
       "\n",
       "      70%     80%     90%  threshold        drugid  \n",
       "0   empty   empty  active        6.0  CHEMBL370143  \n",
       "1   empty  active  active        6.0  CHEMBL370143  \n",
       "2  active  active  active        6.0  CHEMBL370143  \n",
       "3  active  active  active        6.0  CHEMBL370143  \n",
       "4   empty   empty  active        6.0  CHEMBL370143  "
      ]
     },
     "execution_count": 30,
     "metadata": {},
     "output_type": "execute_result"
    }
   ],
   "source": [
    "final_df.head(5)"
   ]
  },
  {
   "cell_type": "code",
   "execution_count": 31,
   "id": "a0d2afe9",
   "metadata": {},
   "outputs": [
    {
     "data": {
      "application/vnd.jupyter.widget-view+json": {
       "model_id": "e0c161d536a143148e22f568b31353fc",
       "version_major": 2,
       "version_minor": 0
      },
      "text/plain": [
       "Filtering UniProt proteins from ChEMBL:   0%|          | 0/141 [00:00<?, ?it/s]"
      ]
     },
     "metadata": {},
     "output_type": "display_data"
    },
    {
     "data": {
      "application/vnd.jupyter.widget-view+json": {
       "model_id": "a3ea3cfd3a4346b5b7f48dafde538958",
       "version_major": 2,
       "version_minor": 0
      },
      "text/plain": [
       "Filtering human proteins from ChEMBL:   0%|          | 0/141 [00:00<?, ?it/s]"
      ]
     },
     "metadata": {},
     "output_type": "display_data"
    },
    {
     "data": {
      "application/vnd.jupyter.widget-view+json": {
       "model_id": "09868bbf6dde40f4a389d0e9aa11c2d7",
       "version_major": 2,
       "version_minor": 0
      },
      "text/plain": [
       "Populating ChEMBL data for human proteins:   0%|          | 0/141 [00:00<?, ?it/s]"
      ]
     },
     "metadata": {},
     "output_type": "display_data"
    }
   ],
   "source": [
    "#Retrieve proteins and convert to uniprot \n",
    "chem2uni = chembl2uniprot(list(set(final_df['target_chemblid'])))"
   ]
  },
  {
   "cell_type": "code",
   "execution_count": 32,
   "id": "6a9a4686",
   "metadata": {},
   "outputs": [],
   "source": [
    "#temp_df=pd.DataFrame(columns=['target_chemblid','uniprot','symbol'])\n",
    "temp_list = []\n",
    "#temp = []\n",
    "for key in chem2uni:\n",
    "    temp = []\n",
    "\n",
    "    temp.append(key)\n",
    "    temp.append(chem2uni[key][-2]['accession'])\n",
    "    temp.append(chem2uni[key][-1]['component_synonym'])\n",
    "\n",
    "    temp_list.append(temp)\n"
   ]
  },
  {
   "cell_type": "code",
   "execution_count": 33,
   "id": "57701fd6",
   "metadata": {},
   "outputs": [],
   "source": [
    "temp_df = pd.DataFrame(temp_list,columns=['target_chemblid','uniprot','symbol'])"
   ]
  },
  {
   "cell_type": "code",
   "execution_count": 34,
   "id": "70e1c0ee",
   "metadata": {},
   "outputs": [],
   "source": [
    "merge_df = final_df.merge(temp_df[[\"target_chemblid\", \"uniprot\", \"symbol\"]])"
   ]
  },
  {
   "cell_type": "code",
   "execution_count": 35,
   "id": "f62025a0",
   "metadata": {},
   "outputs": [
    {
     "data": {
      "text/plain": [
       "825"
      ]
     },
     "execution_count": 35,
     "metadata": {},
     "output_type": "execute_result"
    }
   ],
   "source": [
    "len(merge_df)"
   ]
  },
  {
   "cell_type": "code",
   "execution_count": 36,
   "id": "6e4d621c",
   "metadata": {},
   "outputs": [
    {
     "data": {
      "text/html": [
       "<div>\n",
       "<style scoped>\n",
       "    .dataframe tbody tr th:only-of-type {\n",
       "        vertical-align: middle;\n",
       "    }\n",
       "\n",
       "    .dataframe tbody tr th {\n",
       "        vertical-align: top;\n",
       "    }\n",
       "\n",
       "    .dataframe thead th {\n",
       "        text-align: right;\n",
       "    }\n",
       "</style>\n",
       "<table border=\"1\" class=\"dataframe\">\n",
       "  <thead>\n",
       "    <tr style=\"text-align: right;\">\n",
       "      <th></th>\n",
       "      <th>target_chemblid</th>\n",
       "      <th>organism</th>\n",
       "      <th>pref_name</th>\n",
       "      <th>70%</th>\n",
       "      <th>80%</th>\n",
       "      <th>90%</th>\n",
       "      <th>threshold</th>\n",
       "      <th>drugid</th>\n",
       "      <th>uniprot</th>\n",
       "      <th>symbol</th>\n",
       "    </tr>\n",
       "  </thead>\n",
       "  <tbody>\n",
       "    <tr>\n",
       "      <th>0</th>\n",
       "      <td>CHEMBL2157850</td>\n",
       "      <td>Homo sapiens</td>\n",
       "      <td>Ubiquitin carboxyl-terminal hydrolase 7</td>\n",
       "      <td>empty</td>\n",
       "      <td>empty</td>\n",
       "      <td>active</td>\n",
       "      <td>6.0</td>\n",
       "      <td>CHEMBL370143</td>\n",
       "      <td>Q93009</td>\n",
       "      <td>USP7</td>\n",
       "    </tr>\n",
       "    <tr>\n",
       "      <th>1</th>\n",
       "      <td>CHEMBL4618</td>\n",
       "      <td>Homo sapiens</td>\n",
       "      <td>Leukotriene A4 hydrolase</td>\n",
       "      <td>empty</td>\n",
       "      <td>active</td>\n",
       "      <td>active</td>\n",
       "      <td>6.0</td>\n",
       "      <td>CHEMBL370143</td>\n",
       "      <td>P09960</td>\n",
       "      <td>LTA4H</td>\n",
       "    </tr>\n",
       "    <tr>\n",
       "      <th>2</th>\n",
       "      <td>CHEMBL5880</td>\n",
       "      <td>Homo sapiens</td>\n",
       "      <td>Interleukin-2</td>\n",
       "      <td>active</td>\n",
       "      <td>active</td>\n",
       "      <td>active</td>\n",
       "      <td>6.0</td>\n",
       "      <td>CHEMBL370143</td>\n",
       "      <td>P60568</td>\n",
       "      <td>IL2</td>\n",
       "    </tr>\n",
       "    <tr>\n",
       "      <th>3</th>\n",
       "      <td>CHEMBL2111432</td>\n",
       "      <td>Homo sapiens</td>\n",
       "      <td>PI3-kinase p110-delta/p85-alpha</td>\n",
       "      <td>active</td>\n",
       "      <td>active</td>\n",
       "      <td>active</td>\n",
       "      <td>6.0</td>\n",
       "      <td>CHEMBL370143</td>\n",
       "      <td>P27986</td>\n",
       "      <td>PIK3R1</td>\n",
       "    </tr>\n",
       "    <tr>\n",
       "      <th>4</th>\n",
       "      <td>CHEMBL3004</td>\n",
       "      <td>Homo sapiens</td>\n",
       "      <td>Multidrug resistance-associated protein 1</td>\n",
       "      <td>empty</td>\n",
       "      <td>empty</td>\n",
       "      <td>active</td>\n",
       "      <td>6.0</td>\n",
       "      <td>CHEMBL370143</td>\n",
       "      <td>P33527</td>\n",
       "      <td>ABCC1</td>\n",
       "    </tr>\n",
       "  </tbody>\n",
       "</table>\n",
       "</div>"
      ],
      "text/plain": [
       "  target_chemblid      organism                                  pref_name  \\\n",
       "0   CHEMBL2157850  Homo sapiens    Ubiquitin carboxyl-terminal hydrolase 7   \n",
       "1      CHEMBL4618  Homo sapiens                   Leukotriene A4 hydrolase   \n",
       "2      CHEMBL5880  Homo sapiens                              Interleukin-2   \n",
       "3   CHEMBL2111432  Homo sapiens            PI3-kinase p110-delta/p85-alpha   \n",
       "4      CHEMBL3004  Homo sapiens  Multidrug resistance-associated protein 1   \n",
       "\n",
       "      70%     80%     90%  threshold        drugid uniprot  symbol  \n",
       "0   empty   empty  active        6.0  CHEMBL370143  Q93009    USP7  \n",
       "1   empty  active  active        6.0  CHEMBL370143  P09960   LTA4H  \n",
       "2  active  active  active        6.0  CHEMBL370143  P60568     IL2  \n",
       "3  active  active  active        6.0  CHEMBL370143  P27986  PIK3R1  \n",
       "4   empty   empty  active        6.0  CHEMBL370143  P33527   ABCC1  "
      ]
     },
     "execution_count": 36,
     "metadata": {},
     "output_type": "execute_result"
    }
   ],
   "source": [
    "merge_df.head()"
   ]
  },
  {
   "cell_type": "code",
   "execution_count": 84,
   "id": "69c6aa10",
   "metadata": {},
   "outputs": [],
   "source": [
    "merge_df.to_csv('../data/ntd_drug_predictedtarget.csv')"
   ]
  },
  {
   "cell_type": "code",
   "execution_count": 56,
   "id": "c66eac40",
   "metadata": {},
   "outputs": [],
   "source": [
    "tnd = pybel.BELGraph(name='Tropical Neglected Diseases', version=\"0.0.1\")"
   ]
  },
  {
   "cell_type": "code",
   "execution_count": 57,
   "id": "37e86555",
   "metadata": {},
   "outputs": [],
   "source": [
    "#add annotation \"Predicted\" for predicted proteins from ChEMBL \n",
    "\n",
    "def chem2prot_rel(df,graph):\n",
    "    \n",
    "    for i in range(len(df)):\n",
    "\n",
    "        graph.add_association(\n",
    "            Abundance(namespace='ChEMBL', name= str(df['drugid'][i])),\n",
    "            Protein(namespace='HGNC', name= str(df['symbol'][i])),  \n",
    "            citation=\"ChEMBL\",\n",
    "            evidence='Targeted predictions'\n",
    "        )\n",
    "        \n",
    "        nx.set_node_attributes(graph,{Protein(namespace='HGNC', name=str(df['symbol'][i])):'Predicted'},'Type')\n",
    "\n",
    "    return graph"
   ]
  },
  {
   "cell_type": "code",
   "execution_count": 58,
   "id": "17bca5cb",
   "metadata": {},
   "outputs": [],
   "source": [
    "tnd = chem2prot_rel(merge_df,tnd)"
   ]
  },
  {
   "cell_type": "code",
   "execution_count": 59,
   "id": "e620ec07",
   "metadata": {},
   "outputs": [
    {
     "name": "stdout",
     "output_type": "stream",
     "text": [
      "IL2\n",
      "Predicted\n",
      "TNF\n",
      "Predicted\n"
     ]
    }
   ],
   "source": [
    "#list entities of interest separated by a space\n",
    "entityList = 'IL2 TNF'.split(' ')\n",
    "\n",
    "prtn_attr = nx.get_node_attributes(tnd,'Type')\n",
    "#chem_attr = nx.get_node_attributes(tnd,'ChEMBL')\n",
    "#bionote_attr = nx.get_node_attributes(tnd,'3Dbio')\n",
    "\n",
    "for node in tnd.nodes():\n",
    "    unique_node = []\n",
    "    \n",
    "    if node.name in entityList:\n",
    "        if node not in unique_node:\n",
    "            \n",
    "            unique_node.append(node)\n",
    "            print(node.name)\n",
    "                \n",
    "            if isinstance(node,pybel.dsl.Protein):\n",
    "                print(prtn_attr[node])\n"
   ]
  },
  {
   "cell_type": "code",
   "execution_count": 60,
   "id": "ed99ad96",
   "metadata": {},
   "outputs": [
    {
     "data": {
      "application/vnd.jupyter.widget-view+json": {
       "model_id": "2b9dc50377da46a7930ce4e2545bc21f",
       "version_major": 2,
       "version_minor": 0
      },
      "text/plain": [
       "Fetching Protein-related info:   0%|          | 0/141 [00:00<?, ?it/s]"
      ]
     },
     "metadata": {},
     "output_type": "display_data"
    }
   ],
   "source": [
    "# Ret prot ids from uprot and extend to GOBP, GOMF and Reactome pathways\n",
    "protList = Ret_uprotid(chem2uni)\n",
    "uprots_ext = ExtractFromUniProt(protList)"
   ]
  },
  {
   "cell_type": "code",
   "execution_count": 61,
   "id": "dd9b78ed",
   "metadata": {},
   "outputs": [
    {
     "data": {
      "text/plain": [
       "141"
      ]
     },
     "execution_count": 61,
     "metadata": {},
     "output_type": "execute_result"
    }
   ],
   "source": [
    "len(protList)"
   ]
  },
  {
   "cell_type": "code",
   "execution_count": 62,
   "id": "cbd2a4c7",
   "metadata": {},
   "outputs": [
    {
     "data": {
      "application/vnd.jupyter.widget-view+json": {
       "model_id": "a2db47be0b6348ffb011574479c15f8a",
       "version_major": 2,
       "version_minor": 0
      },
      "text/plain": [
       "Fetching Protein-related info:   0%|          | 0/58 [00:00<?, ?it/s]"
      ]
     },
     "metadata": {},
     "output_type": "display_data"
    }
   ],
   "source": [
    "#do the same for chembl2uprot from Part I\n",
    "chembl2uprot_ext = Ret_uprotid(chembl2uprot)\n",
    "uprots_ext_2 = ExtractFromUniProt(chembl2uprot_ext)"
   ]
  },
  {
   "cell_type": "code",
   "execution_count": 63,
   "id": "de59ef0d",
   "metadata": {},
   "outputs": [
    {
     "data": {
      "text/plain": [
       "58"
      ]
     },
     "execution_count": 63,
     "metadata": {},
     "output_type": "execute_result"
    }
   ],
   "source": [
    "len(chembl2uprot_ext)"
   ]
  },
  {
   "cell_type": "code",
   "execution_count": 65,
   "id": "164499b9",
   "metadata": {},
   "outputs": [],
   "source": [
    "xx = [x for x in protList if x in chembl2uprot_ext]\n"
   ]
  },
  {
   "cell_type": "code",
   "execution_count": null,
   "id": "e4d50a26",
   "metadata": {},
   "outputs": [],
   "source": [
    "# let's create a KG now"
   ]
  },
  {
   "cell_type": "code",
   "execution_count": 66,
   "id": "644f58b8",
   "metadata": {},
   "outputs": [],
   "source": [
    "def chem2moa_rel(\n",
    "    named_mechList,\n",
    "    org,\n",
    "    graph: BELGraph\n",
    ") -> BELGraph:\n",
    "    \"\"\"Method to create the KG\n",
    "\n",
    "    :param named_mechList:\n",
    "    :param org:\n",
    "    :param graph: BEL graph of KG\n",
    "    :return:\n",
    "    \"\"\"\n",
    "    \n",
    "    #identified types of chemical and protein action types\n",
    "    #['INHIBITOR','NEGATIVE ALLOSTERIC MODULATOR','POSITIVE ALLOSTERIC MODULATOR','ANTAGONIST','AGONIST','MODULATOR','BLOCKER','ACTIVATOR','DISRUPTING AGENT', 'SUBSTRATE', 'OPENER','PARTIAL AGONIST','SEQUESTERING AGENT']\n",
    "    # following lists are used to determine type of edge relationships\n",
    "    pos = ['POSITIVE ALLOSTERIC MODULATOR','AGONIST','ACTIVATOR','PARTIAL AGONIST']\n",
    "    neg = ['INHIBITOR','NEGATIVE ALLOSTERIC MODULATOR','ANTAGONIST','BLOCKER']\n",
    "    misc = ['MODULATOR','DISRUPTING AGENT','SUBSTRATE','OPENER','SEQUESTERING AGENT']\n",
    "\n",
    "    for chembl_name, chembl_entries in tqdm(named_mechList.items(), desc='Populating Chemical-MoA edges'):\n",
    "        for info in chembl_entries:\n",
    "            graph.add_association(\n",
    "                Abundance(namespace='ChEMBL', name=chembl_name),\n",
    "                BiologicalProcess(namespace='MOA', name=info['mechanism_of_action']),\n",
    "                citation='ChEMBL database',\n",
    "                evidence='ChEMBL query'\n",
    "            )\n",
    "\n",
    "            if not info['target_chembl_id']:\n",
    "                continue\n",
    "\n",
    "            if 'Protein' in info:\n",
    "                if info['action_type'] in pos:\n",
    "                    graph.add_increases(\n",
    "                        Abundance(namespace='ChEMBL', name=chembl_name),\n",
    "                        Protein(namespace=org, name=info['Protein']),\n",
    "                        citation='ChEMBL database',\n",
    "                        evidence='ChEMBL query'\n",
    "                    )\n",
    "                if info['action_type'] in neg:\n",
    "                    graph.add_decreases(\n",
    "                        Abundance(namespace='ChEMBL', name=chembl_name),\n",
    "                        Protein(namespace=org, name=info['Protein']),\n",
    "                        citation='ChEMBL database',\n",
    "                        evidence='ChEMBL query'\n",
    "                    )\n",
    "\n",
    "                if info['action_type'] in misc:\n",
    "                    graph.add_association(\n",
    "                        Abundance(namespace='ChEMBL', name=chembl_name),\n",
    "                        Protein(namespace=org, name=info['Protein']),\n",
    "                        citation='ChEMBL database',\n",
    "                        evidence='ChEMBL query'\n",
    "                    )                  \n",
    "                    \n",
    "                nx.set_node_attributes(graph,{Protein(namespace=org, name=info['Protein']):'Validated'},'Type')\n",
    "\n",
    "            # else:\n",
    "                # graph.add_association(\n",
    "                    # Abundance(namespace='ChEMBL', name=chembl_name),\n",
    "                    # Protein(namespace=org, name=info['target_chembl_id']),\n",
    "                    # citation='ChEMBL database',\n",
    "                    # evidence='ChEMBL query'\n",
    "                # )\n",
    "\n",
    "    return graph"
   ]
  },
  {
   "cell_type": "code",
   "execution_count": null,
   "id": "41fa86d2",
   "metadata": {},
   "outputs": [],
   "source": [
    "chembl2act"
   ]
  },
  {
   "cell_type": "code",
   "execution_count": 67,
   "id": "186d9b12",
   "metadata": {},
   "outputs": [],
   "source": [
    "def chem2act_rel(\n",
    "    named_ActList,\n",
    "    org,\n",
    "    graph: BELGraph\n",
    ") -> BELGraph:\n",
    "    \"\"\"Method to add bioassay edges to the KG.\n",
    "\n",
    "    :param named_ActList:\n",
    "    :param org:\n",
    "    :param graph:\n",
    "    :return:\n",
    "    \"\"\"\n",
    "    for chemical, chem_entries in tqdm(named_ActList.items(), desc='Adding bioassay edges to BEL'):\n",
    "        for chem_data in chem_entries:\n",
    "            if chem_data['target_chembl_id']:\n",
    "                if 'Protein' in chem_data:\n",
    "                    graph.add_association(\n",
    "                        Abundance(namespace='ChEMBLAssay', name=chem_data['assay_chembl_id']),\n",
    "                        Protein(namespace=org, name=chem_data['Protein']),\n",
    "                        citation='ChEMBL database',\n",
    "                        evidence='ChEMBL query'\n",
    "                    )\n",
    "                    \n",
    "                    nx.set_node_attributes(graph,{Protein(namespace=org, name=chem_data['Protein']):'Validated'},'Type')\n",
    "                    \n",
    "                # else:\n",
    "                    # graph.add_association(\n",
    "                        # Abundance(namespace='ChEMBLAssay', name=chem_data['assay_chembl_id']),\n",
    "                        # Protein(namespace=org, name=chem_data['target_chembl_id']),\n",
    "                        # citation='ChEMBL database',\n",
    "                        # evidence='ChEMBL query'\n",
    "                    # )\n",
    "\n",
    "            graph.add_association(\n",
    "                Abundance(namespace='ChEMBL', name=chemical),\n",
    "                Abundance(namespace='ChEMBLAssay', name=chem_data['assay_chembl_id']),\n",
    "                citation='ChEMBL database',\n",
    "                evidence='ChEMBL query',\n",
    "                annotation={\n",
    "                    'assayType': chem_data['assay_type'],\n",
    "                    'pChEMBL': chem_data['pchembl_value']\n",
    "                }\n",
    "            )\n",
    "\n",
    "    return graph"
   ]
  },
  {
   "cell_type": "code",
   "execution_count": 68,
   "id": "9c5e085a",
   "metadata": {},
   "outputs": [
    {
     "data": {
      "application/vnd.jupyter.widget-view+json": {
       "model_id": "81a2ed436315418fa36fc077e91ca1d9",
       "version_major": 2,
       "version_minor": 0
      },
      "text/plain": [
       "Populating Chemical-MoA edges:   0%|          | 0/36 [00:00<?, ?it/s]"
      ]
     },
     "metadata": {},
     "output_type": "display_data"
    },
    {
     "data": {
      "application/vnd.jupyter.widget-view+json": {
       "model_id": "cede8fa9c4b34452ad124a6f3bcfdb87",
       "version_major": 2,
       "version_minor": 0
      },
      "text/plain": [
       "Adding bioassay edges to BEL:   0%|          | 0/14 [00:00<?, ?it/s]"
      ]
     },
     "metadata": {},
     "output_type": "display_data"
    }
   ],
   "source": [
    "#tnd = pybel.BELGraph(name='Tropical Neglected Diseases', version=\"0.0.1\")\n",
    "tnd = chem2moa_rel(chembl2mech, 'HGNC', tnd)\n",
    "tnd = chem2act_rel(chembl2act, 'HGNC', tnd)"
   ]
  },
  {
   "cell_type": "code",
   "execution_count": 69,
   "id": "e9e2104e",
   "metadata": {},
   "outputs": [
    {
     "name": "stdout",
     "output_type": "stream",
     "text": [
      "TNF\n",
      "Predicted\n",
      "folP1\n",
      "Validated\n",
      "PPIA\n",
      "Validated\n",
      "DHFR\n",
      "Validated\n"
     ]
    }
   ],
   "source": [
    "#checking if annotations are done properly\n",
    "#list entities of interest separated by a space\n",
    "entityList = 'PPIA folP1 DHFR TNF'.split(' ')\n",
    "\n",
    "prtn_attr = nx.get_node_attributes(tnd,'Type')\n",
    "#chem_attr = nx.get_node_attributes(mpox_graph,'ChEMBL')\n",
    "#bionote_attr = nx.get_node_attributes(mpox_graph,'3Dbio')\n",
    "\n",
    "for node in tnd.nodes():\n",
    "    unique_node = []\n",
    "    \n",
    "    if node.name in entityList:\n",
    "        if node not in unique_node:\n",
    "            \n",
    "            unique_node.append(node)\n",
    "            print(node.name)\n",
    "                \n",
    "            if isinstance(node,pybel.dsl.Protein):\n",
    "                print(prtn_attr[node])\n",
    "                \n"
   ]
  },
  {
   "cell_type": "code",
   "execution_count": 71,
   "id": "5b50cb71",
   "metadata": {},
   "outputs": [],
   "source": [
    "#to neo4j\n",
    "pybel.to_csv(tnd,'../data/kg_outputs/tnd_checkAnnotation.csv')"
   ]
  },
  {
   "cell_type": "code",
   "execution_count": 72,
   "id": "8ef5d2db",
   "metadata": {},
   "outputs": [
    {
     "data": {
      "application/vnd.jupyter.widget-view+json": {
       "model_id": "8c4a60f17b89456fb3c48a87536aec2e",
       "version_major": 2,
       "version_minor": 0
      },
      "text/plain": [
       "Populating Chemical-MoA edges:   0%|          | 0/36 [00:00<?, ?it/s]"
      ]
     },
     "metadata": {},
     "output_type": "display_data"
    },
    {
     "data": {
      "application/vnd.jupyter.widget-view+json": {
       "model_id": "af43bbbcbbd049b7898ff4731c86fc0a",
       "version_major": 2,
       "version_minor": 0
      },
      "text/plain": [
       "Populating Drug-Indication edges:   0%|          | 0/46 [00:00<?, ?it/s]"
      ]
     },
     "metadata": {},
     "output_type": "display_data"
    },
    {
     "data": {
      "application/vnd.jupyter.widget-view+json": {
       "model_id": "8f63ef1cdfac466db63b43ee8dc0c7b8",
       "version_major": 2,
       "version_minor": 0
      },
      "text/plain": [
       "Adding bioassay edges to BEL:   0%|          | 0/14 [00:00<?, ?it/s]"
      ]
     },
     "metadata": {},
     "output_type": "display_data"
    },
    {
     "data": {
      "application/vnd.jupyter.widget-view+json": {
       "model_id": "79fd5e12034e4c39ad5e0d54e9cea544",
       "version_major": 2,
       "version_minor": 0
      },
      "text/plain": [
       "Populating Uniprot edges:   0%|          | 0/137 [00:00<?, ?it/s]"
      ]
     },
     "metadata": {},
     "output_type": "display_data"
    },
    {
     "data": {
      "application/vnd.jupyter.widget-view+json": {
       "model_id": "b6b3963116ed4734a19461e1c24e4d26",
       "version_major": 2,
       "version_minor": 0
      },
      "text/plain": [
       "Populating Uniprot edges:   0%|          | 0/57 [00:00<?, ?it/s]"
      ]
     },
     "metadata": {},
     "output_type": "display_data"
    }
   ],
   "source": [
    "tnd = chem2moa_rel(chembl2mech, 'HGNC', tnd)\n",
    "tnd = chem2dis_rel(chembl2dis, tnd)\n",
    "tnd = chem2act_rel(chembl2act, 'HGNC', tnd)\n",
    "\n",
    "tnd = gene2path_rel(chembl2uprot, 'HGNC', tnd)\n",
    "tnd = gene2path_rel(chem2uni,'HGNC',tnd)\n",
    "\n",
    "tnd = uniprot_rel(uprots_ext,'HGNC',tnd)\n",
    "tnd = uniprot_rel(uprots_ext_2,'HGNC',tnd)\n",
    "\n",
    "tnd = chembl2adverseEffect_rel(advEff,tnd)\n",
    "tnd= chembl2drugWarnings_rel(drugWarn,tnd)"
   ]
  },
  {
   "cell_type": "code",
   "execution_count": 73,
   "id": "3aa39d67",
   "metadata": {},
   "outputs": [
    {
     "name": "stdout",
     "output_type": "stream",
     "text": [
      "---------------------  ---------------------------\n",
      "Name                   Tropical Neglected Diseases\n",
      "Version                0.0.1\n",
      "Number of Nodes        7082\n",
      "Number of Namespaces   10\n",
      "Number of Edges        27671\n",
      "Number of Annotations  0\n",
      "Number of Citations    4\n",
      "Number of Authors      0\n",
      "Number of Components   1\n",
      "Number of Warnings     0\n",
      "Network Density        5.52E-04\n",
      "---------------------  ---------------------------\n",
      "\n",
      "Type (4)             Count  Example\n",
      "-----------------  -------  -----------------------------------------\n",
      "BiologicalProcess     3254  bp(GOBP:\"xanthine catabolic process\")\n",
      "Abundance             2034  a(ChEMBLAssay:CHEMBL712573)\n",
      "Pathology             1611  path(SideEffect:\"pulmonary tuberculosis\")\n",
      "Protein                183  p(HGNC:TMPRSS6)\n",
      "\n",
      "Prefix (10)    Name                                Count  Example\n",
      "-------------  --------------------------------  -------  ------------------------------------------------------------\n",
      "ChEMBLAssay                                         1988  a(ChEMBLAssay:CHEMBL3370894)\n",
      "GOBP           Gene Ontology                        1974  bp(GOBP:\"negative regulation of lipid transport\")\n",
      "SideEffect                                           846  path(SideEffect:\"pneumonia mycoplasmal\")\n",
      "Disease                                              752  path(Disease:Glomerulonephritis)\n",
      "Reactome       Reactome                              645  bp(Reactome:\"Cytosolic sensors of pathogen-associated DNA.\")\n",
      "GOMF           Gene Ontology                         604  bp(GOMF:\"histone decrotonylase activity\")\n",
      "HGNC           HUGO Gene Nomenclature Committee      183  p(HGNC:AVPR1A)\n",
      "ChEMBL         ChEMBL                                 46  a(ChEMBL:CHEMBL376488)\n",
      "MOA                                                   31  bp(MOA:\"HMG-CoA reductase inhibitor\")\n",
      "DrugWarning                                           13  path(DrugWarning:hepatotoxicity)\n",
      "\n",
      "Edge Type (6)                              Count  Example\n",
      "---------------------------------------  -------  ------------------------------------------------------------------------------------------------\n",
      "Protein association BiologicalProcess       5844  p(HGNC:GRIN1) association bp(GOBP:\"positive regulation of synaptic transmission, glutamatergic\")\n",
      "Pathology association Abundance             3121  path(Disease:Pain) association a(ChEMBL:CHEMBL1200699)\n",
      "Protein association Abundance               2810  p(HGNC:TMIGD3) association a(ChEMBL:CHEMBL1235551)\n",
      "BiologicalProcess association Abundance       45  bp(MOA:\"Carbonic anhydrase II inhibitor\") association a(ChEMBL:CHEMBL20)\n",
      "Abundance decreases Protein                   24  a(ChEMBL:CHEMBL1082) decreases p(HGNC:dacB)\n",
      "Abundance increases Protein                    5  a(ChEMBL:CHEMBL45) increases p(HGNC:MTNR1A)\n",
      "\n"
     ]
    }
   ],
   "source": [
    "tnd.summarize()"
   ]
  },
  {
   "cell_type": "code",
   "execution_count": 76,
   "id": "4822f3b3",
   "metadata": {},
   "outputs": [],
   "source": [
    "#to cytoscape compatible graphml \n",
    "pybel.to_graphml(tnd,'../data/kg_outputs/tnd.graphml')\n",
    "\n",
    "#to regular BEL format\n",
    "pybel.dump(tnd,'../data/kg_outputs/tnd.bel')\n",
    "\n",
    "#to neo4j\n",
    "pybel.to_csv(tnd,'../data/kg_outputs/tnd.csv')\n",
    "\n",
    "#to sif\n",
    "pybel.to_sif(tnd,'../data/kg_outputs/tnd.sif')\n",
    "\n",
    "#to xml\n",
    "\n",
    "#pybel.to"
   ]
  },
  {
   "cell_type": "code",
   "execution_count": 78,
   "id": "ce9be123",
   "metadata": {},
   "outputs": [],
   "source": [
    "# filename = ('../data/kg_outputs/tnd.pkl')\n",
    "# outfile = open(filename,'wb')\n",
    "# pickle.dump(tnd,outfile)"
   ]
  },
  {
   "cell_type": "code",
   "execution_count": 8,
   "id": "23500a63",
   "metadata": {},
   "outputs": [],
   "source": [
    "import pickle"
   ]
  },
  {
   "cell_type": "code",
   "execution_count": 9,
   "id": "5bc8c4dc",
   "metadata": {},
   "outputs": [],
   "source": [
    "infile = open('../data/kg_outputs/tnd.pkl','rb')\n",
    "tnd = pickle.load(infile)\n",
    "infile.close()"
   ]
  },
  {
   "cell_type": "code",
   "execution_count": 21,
   "id": "3e307cd2",
   "metadata": {},
   "outputs": [],
   "source": [
    "import pybel\n",
    "import pandas as pd\n",
    "import seaborn as sns"
   ]
  },
  {
   "cell_type": "code",
   "execution_count": 34,
   "id": "25794412",
   "metadata": {},
   "outputs": [
    {
     "name": "stdout",
     "output_type": "stream",
     "text": [
      "Collecting colorcet\n",
      "  Downloading colorcet-3.1.0-py3-none-any.whl.metadata (6.3 kB)\n",
      "Downloading colorcet-3.1.0-py3-none-any.whl (260 kB)\n",
      "   ---------------------------------------- 0.0/260.3 kB ? eta -:--:--\n",
      "   - -------------------------------------- 10.2/260.3 kB ? eta -:--:--\n",
      "   ---- ---------------------------------- 30.7/260.3 kB 435.7 kB/s eta 0:00:01\n",
      "   --------- ----------------------------- 61.4/260.3 kB 544.7 kB/s eta 0:00:01\n",
      "   ------------- ------------------------- 92.2/260.3 kB 655.4 kB/s eta 0:00:01\n",
      "   ----------------- -------------------- 122.9/260.3 kB 654.9 kB/s eta 0:00:01\n",
      "   ---------------------------------------  256.0/260.3 kB 1.1 MB/s eta 0:00:01\n",
      "   ---------------------------------------- 260.3/260.3 kB 1.1 MB/s eta 0:00:00\n",
      "Installing collected packages: colorcet\n",
      "Successfully installed colorcet-3.1.0\n",
      "Note: you may need to restart the kernel to use updated packages.\n"
     ]
    }
   ],
   "source": [
    "pip install colorcet"
   ]
  },
  {
   "cell_type": "code",
   "execution_count": 80,
   "id": "fc92d017",
   "metadata": {},
   "outputs": [],
   "source": [
    "def KG_namespace_plot(final_kg,kg_name):\n",
    "    import colorcet as cc\n",
    "    import matplotlib.pyplot as plt\n",
    "    nspace_count = pybel.struct.summary.count_namespaces(final_kg)\n",
    "    nspace_count = dict(nspace_count)\n",
    "\n",
    "    nspace_data = {'Namespace':list(nspace_count.keys()),'Number':list(nspace_count.values())}\n",
    "    nspace = pd.DataFrame(nspace_data)\n",
    "    plt.figure()\n",
    "    \n",
    "    palette = sns.color_palette(cc.glasbey, n_colors=10)\n",
    "\n",
    "    a = sns.barplot(x=\"Number\", y=\"Namespace\", data=nspace_data,palette=palette, legend=False)\n",
    "    a.set(xlabel='Number',ylabel='Namespace',title= 'KG Namespace in numbers')\n",
    "\n",
    "    plt.tight_layout()\n",
    "    plt.savefig(kg_name+'_namespace.png',dpi=600)"
   ]
  },
  {
   "cell_type": "code",
   "execution_count": 81,
   "id": "513ba316",
   "metadata": {},
   "outputs": [
    {
     "name": "stderr",
     "output_type": "stream",
     "text": [
      "C:\\Users\\reagon.karki\\AppData\\Local\\Temp\\ipykernel_16036\\2322356302.py:13: FutureWarning: \n",
      "\n",
      "Passing `palette` without assigning `hue` is deprecated and will be removed in v0.14.0. Assign the `y` variable to `hue` and set `legend=False` for the same effect.\n",
      "\n",
      "  a = sns.barplot(x=\"Number\", y=\"Namespace\", data=nspace_data,palette=palette, legend=False)\n"
     ]
    },
    {
     "data": {
      "image/png": "[encoded data removed]",
      "text/plain": [
       "<Figure size 640x480 with 1 Axes>"
      ]
     },
     "metadata": {},
     "output_type": "display_data"
    }
   ],
   "source": [
    "xx = KG_namespace_plot(tnd,'tnd')"
   ]
  },
  {
   "cell_type": "markdown",
   "id": "e9c56ff6",
   "metadata": {},
   "source": [
    "# Miscellaneous"
   ]
  },
  {
   "cell_type": "markdown",
   "id": "604f29d1",
   "metadata": {},
   "source": [
    "# plots and figures for manuscript"
   ]
  },
  {
   "cell_type": "code",
   "execution_count": 83,
   "id": "212ca31e",
   "metadata": {},
   "outputs": [],
   "source": [
    "df = pd.read_csv('../data/NTDdrugs_properties.csv',index_col=0)"
   ]
  },
  {
   "cell_type": "code",
   "execution_count": 3,
   "id": "515a881d",
   "metadata": {},
   "outputs": [],
   "source": [
    "cols = list(df.columns)"
   ]
  },
  {
   "cell_type": "code",
   "execution_count": 4,
   "id": "866b2172",
   "metadata": {},
   "outputs": [
    {
     "data": {
      "text/plain": [
       "['drugId',\n",
       " 'smiles',\n",
       " 'Violation(s)_ro5',\n",
       " 'Lipinski_ro5',\n",
       " 'MW',\n",
       " 'HBA',\n",
       " 'HBD',\n",
       " 'LogP',\n",
       " 'Ghose',\n",
       " 'AtomNum',\n",
       " 'MolRefractivity',\n",
       " 'Veber',\n",
       " 'RotBond',\n",
       " 'TPSA',\n",
       " 'REOS',\n",
       " 'Charge',\n",
       " 'HeavyAtom',\n",
       " 'QED',\n",
       " 'RingNum',\n",
       " 'phase']"
      ]
     },
     "execution_count": 4,
     "metadata": {},
     "output_type": "execute_result"
    }
   ],
   "source": [
    "cols"
   ]
  },
  {
   "cell_type": "code",
   "execution_count": 5,
   "id": "a44435b0",
   "metadata": {},
   "outputs": [],
   "source": [
    "cols = ['drugId',\n",
    " 'smiles',\n",
    " 'MW',\n",
    " 'HBA',\n",
    " 'HBD',\n",
    " 'LogP',\n",
    " 'AtomNum',\n",
    " 'MolRefractivity',\n",
    " 'RingNum',\n",
    " 'RotBond',\n",
    " 'TPSA',\n",
    " 'Charge',\n",
    " 'HeavyAtom',\n",
    " 'Violation(s)_ro5',\n",
    " 'Lipinski_ro5',\n",
    " 'Ghose',\n",
    " 'Veber',\n",
    " 'REOS',\n",
    " 'QED',\n",
    " 'phase']"
   ]
  },
  {
   "cell_type": "code",
   "execution_count": 6,
   "id": "cfd2493d",
   "metadata": {},
   "outputs": [],
   "source": [
    "df = df[cols]"
   ]
  },
  {
   "cell_type": "code",
   "execution_count": 7,
   "id": "938b40a3",
   "metadata": {
    "scrolled": true
   },
   "outputs": [
    {
     "data": {
      "text/html": [
       "<div>\n",
       "<style scoped>\n",
       "    .dataframe tbody tr th:only-of-type {\n",
       "        vertical-align: middle;\n",
       "    }\n",
       "\n",
       "    .dataframe tbody tr th {\n",
       "        vertical-align: top;\n",
       "    }\n",
       "\n",
       "    .dataframe thead th {\n",
       "        text-align: right;\n",
       "    }\n",
       "</style>\n",
       "<table border=\"1\" class=\"dataframe\">\n",
       "  <thead>\n",
       "    <tr style=\"text-align: right;\">\n",
       "      <th></th>\n",
       "      <th>drugId</th>\n",
       "      <th>smiles</th>\n",
       "      <th>MW</th>\n",
       "      <th>HBA</th>\n",
       "      <th>HBD</th>\n",
       "      <th>LogP</th>\n",
       "      <th>AtomNum</th>\n",
       "      <th>MolRefractivity</th>\n",
       "      <th>RingNum</th>\n",
       "      <th>RotBond</th>\n",
       "      <th>TPSA</th>\n",
       "      <th>Charge</th>\n",
       "      <th>HeavyAtom</th>\n",
       "      <th>Violation(s)_ro5</th>\n",
       "      <th>Lipinski_ro5</th>\n",
       "      <th>Ghose</th>\n",
       "      <th>Veber</th>\n",
       "      <th>REOS</th>\n",
       "      <th>QED</th>\n",
       "      <th>phase</th>\n",
       "    </tr>\n",
       "  </thead>\n",
       "  <tbody>\n",
       "    <tr>\n",
       "      <th>0</th>\n",
       "      <td>CHEMBL1282</td>\n",
       "      <td>CC(C)Cn1cnc2c(N)nc3ccccc3c21</td>\n",
       "      <td>240.310</td>\n",
       "      <td>4</td>\n",
       "      <td>2</td>\n",
       "      <td>2.8227</td>\n",
       "      <td>18</td>\n",
       "      <td>74.2844</td>\n",
       "      <td>3</td>\n",
       "      <td>2</td>\n",
       "      <td>56.73</td>\n",
       "      <td>0</td>\n",
       "      <td>18</td>\n",
       "      <td>0</td>\n",
       "      <td>0</td>\n",
       "      <td>1</td>\n",
       "      <td>0</td>\n",
       "      <td>0</td>\n",
       "      <td>0</td>\n",
       "      <td>3</td>\n",
       "    </tr>\n",
       "    <tr>\n",
       "      <th>1</th>\n",
       "      <td>CHEMBL3989515</td>\n",
       "      <td>CC1(C)S[C@@H]2[C@H](NC(=O)Cc3ccccc3)C(=O)N2[C@...</td>\n",
       "      <td>334.397</td>\n",
       "      <td>6</td>\n",
       "      <td>2</td>\n",
       "      <td>0.8608</td>\n",
       "      <td>23</td>\n",
       "      <td>85.8045</td>\n",
       "      <td>3</td>\n",
       "      <td>4</td>\n",
       "      <td>86.71</td>\n",
       "      <td>0</td>\n",
       "      <td>23</td>\n",
       "      <td>0</td>\n",
       "      <td>0</td>\n",
       "      <td>0</td>\n",
       "      <td>0</td>\n",
       "      <td>0</td>\n",
       "      <td>0</td>\n",
       "      <td>3</td>\n",
       "    </tr>\n",
       "    <tr>\n",
       "      <th>2</th>\n",
       "      <td>CHEMBL976</td>\n",
       "      <td>O=C(C1CCCCC1)N1CC(=O)N2CCc3ccccc3C2C1</td>\n",
       "      <td>312.413</td>\n",
       "      <td>4</td>\n",
       "      <td>0</td>\n",
       "      <td>2.5349</td>\n",
       "      <td>23</td>\n",
       "      <td>87.7550</td>\n",
       "      <td>4</td>\n",
       "      <td>1</td>\n",
       "      <td>40.62</td>\n",
       "      <td>0</td>\n",
       "      <td>23</td>\n",
       "      <td>0</td>\n",
       "      <td>0</td>\n",
       "      <td>0</td>\n",
       "      <td>0</td>\n",
       "      <td>0</td>\n",
       "      <td>0</td>\n",
       "      <td>4</td>\n",
       "    </tr>\n",
       "    <tr>\n",
       "      <th>3</th>\n",
       "      <td>CHEMBL1483</td>\n",
       "      <td>CCCSc1ccc2[nH]c(NC(=O)OC)nc2c1</td>\n",
       "      <td>265.338</td>\n",
       "      <td>5</td>\n",
       "      <td>2</td>\n",
       "      <td>3.2433</td>\n",
       "      <td>18</td>\n",
       "      <td>73.1364</td>\n",
       "      <td>2</td>\n",
       "      <td>4</td>\n",
       "      <td>67.01</td>\n",
       "      <td>0</td>\n",
       "      <td>18</td>\n",
       "      <td>0</td>\n",
       "      <td>0</td>\n",
       "      <td>1</td>\n",
       "      <td>0</td>\n",
       "      <td>0</td>\n",
       "      <td>0</td>\n",
       "      <td>3</td>\n",
       "    </tr>\n",
       "    <tr>\n",
       "      <th>4</th>\n",
       "      <td>CHEMBL376488</td>\n",
       "      <td>COc1nc2ccc(Br)cc2cc1[C@@H](c1ccccc1)[C@@](O)(C...</td>\n",
       "      <td>555.516</td>\n",
       "      <td>4</td>\n",
       "      <td>1</td>\n",
       "      <td>7.1305</td>\n",
       "      <td>37</td>\n",
       "      <td>155.2958</td>\n",
       "      <td>5</td>\n",
       "      <td>8</td>\n",
       "      <td>45.59</td>\n",
       "      <td>0</td>\n",
       "      <td>37</td>\n",
       "      <td>2</td>\n",
       "      <td>1</td>\n",
       "      <td>1</td>\n",
       "      <td>0</td>\n",
       "      <td>1</td>\n",
       "      <td>1</td>\n",
       "      <td>2</td>\n",
       "    </tr>\n",
       "  </tbody>\n",
       "</table>\n",
       "</div>"
      ],
      "text/plain": [
       "          drugId                                             smiles       MW  \\\n",
       "0     CHEMBL1282                       CC(C)Cn1cnc2c(N)nc3ccccc3c21  240.310   \n",
       "1  CHEMBL3989515  CC1(C)S[C@@H]2[C@H](NC(=O)Cc3ccccc3)C(=O)N2[C@...  334.397   \n",
       "2      CHEMBL976              O=C(C1CCCCC1)N1CC(=O)N2CCc3ccccc3C2C1  312.413   \n",
       "3     CHEMBL1483                     CCCSc1ccc2[nH]c(NC(=O)OC)nc2c1  265.338   \n",
       "4   CHEMBL376488  COc1nc2ccc(Br)cc2cc1[C@@H](c1ccccc1)[C@@](O)(C...  555.516   \n",
       "\n",
       "   HBA  HBD    LogP  AtomNum  MolRefractivity  RingNum  RotBond   TPSA  \\\n",
       "0    4    2  2.8227       18          74.2844        3        2  56.73   \n",
       "1    6    2  0.8608       23          85.8045        3        4  86.71   \n",
       "2    4    0  2.5349       23          87.7550        4        1  40.62   \n",
       "3    5    2  3.2433       18          73.1364        2        4  67.01   \n",
       "4    4    1  7.1305       37         155.2958        5        8  45.59   \n",
       "\n",
       "   Charge  HeavyAtom  Violation(s)_ro5  Lipinski_ro5  Ghose  Veber  REOS  QED  \\\n",
       "0       0         18                 0             0      1      0     0    0   \n",
       "1       0         23                 0             0      0      0     0    0   \n",
       "2       0         23                 0             0      0      0     0    0   \n",
       "3       0         18                 0             0      1      0     0    0   \n",
       "4       0         37                 2             1      1      0     1    1   \n",
       "\n",
       "   phase  \n",
       "0      3  \n",
       "1      3  \n",
       "2      4  \n",
       "3      3  \n",
       "4      2  "
      ]
     },
     "execution_count": 7,
     "metadata": {},
     "output_type": "execute_result"
    }
   ],
   "source": [
    "df.head()"
   ]
  },
  {
   "cell_type": "code",
   "execution_count": 8,
   "id": "400802af",
   "metadata": {},
   "outputs": [],
   "source": [
    "filter_cols = ['Lipinski_ro5',\n",
    " 'Ghose',\n",
    " 'Veber',\n",
    " 'REOS',\n",
    " 'QED']"
   ]
  },
  {
   "cell_type": "code",
   "execution_count": 9,
   "id": "b7266d5a",
   "metadata": {},
   "outputs": [],
   "source": [
    "df_filters = df[filter_cols]"
   ]
  },
  {
   "cell_type": "code",
   "execution_count": 10,
   "id": "750bcf56",
   "metadata": {},
   "outputs": [
    {
     "data": {
      "text/html": [
       "<div>\n",
       "<style scoped>\n",
       "    .dataframe tbody tr th:only-of-type {\n",
       "        vertical-align: middle;\n",
       "    }\n",
       "\n",
       "    .dataframe tbody tr th {\n",
       "        vertical-align: top;\n",
       "    }\n",
       "\n",
       "    .dataframe thead th {\n",
       "        text-align: right;\n",
       "    }\n",
       "</style>\n",
       "<table border=\"1\" class=\"dataframe\">\n",
       "  <thead>\n",
       "    <tr style=\"text-align: right;\">\n",
       "      <th></th>\n",
       "      <th>Lipinski_ro5</th>\n",
       "      <th>Ghose</th>\n",
       "      <th>Veber</th>\n",
       "      <th>REOS</th>\n",
       "      <th>QED</th>\n",
       "    </tr>\n",
       "  </thead>\n",
       "  <tbody>\n",
       "    <tr>\n",
       "      <th>0</th>\n",
       "      <td>0</td>\n",
       "      <td>1</td>\n",
       "      <td>0</td>\n",
       "      <td>0</td>\n",
       "      <td>0</td>\n",
       "    </tr>\n",
       "    <tr>\n",
       "      <th>1</th>\n",
       "      <td>0</td>\n",
       "      <td>0</td>\n",
       "      <td>0</td>\n",
       "      <td>0</td>\n",
       "      <td>0</td>\n",
       "    </tr>\n",
       "    <tr>\n",
       "      <th>2</th>\n",
       "      <td>0</td>\n",
       "      <td>0</td>\n",
       "      <td>0</td>\n",
       "      <td>0</td>\n",
       "      <td>0</td>\n",
       "    </tr>\n",
       "    <tr>\n",
       "      <th>3</th>\n",
       "      <td>0</td>\n",
       "      <td>1</td>\n",
       "      <td>0</td>\n",
       "      <td>0</td>\n",
       "      <td>0</td>\n",
       "    </tr>\n",
       "    <tr>\n",
       "      <th>4</th>\n",
       "      <td>1</td>\n",
       "      <td>1</td>\n",
       "      <td>0</td>\n",
       "      <td>1</td>\n",
       "      <td>1</td>\n",
       "    </tr>\n",
       "  </tbody>\n",
       "</table>\n",
       "</div>"
      ],
      "text/plain": [
       "   Lipinski_ro5  Ghose  Veber  REOS  QED\n",
       "0             0      1      0     0    0\n",
       "1             0      0      0     0    0\n",
       "2             0      0      0     0    0\n",
       "3             0      1      0     0    0\n",
       "4             1      1      0     1    1"
      ]
     },
     "execution_count": 10,
     "metadata": {},
     "output_type": "execute_result"
    }
   ],
   "source": [
    "df_filters.head()"
   ]
  },
  {
   "cell_type": "code",
   "execution_count": 11,
   "id": "41ce7fb1",
   "metadata": {},
   "outputs": [],
   "source": [
    "df = df_filters\n",
    "df2 = df.stack().groupby(level=[1]).value_counts().unstack()\n",
    "# Preferred order of stacked bar elements\n",
    "stack_order = [0, 1]\n",
    "df2 = df2[stack_order]"
   ]
  },
  {
   "cell_type": "code",
   "execution_count": 12,
   "id": "e96ae476",
   "metadata": {},
   "outputs": [
    {
     "data": {
      "text/html": [
       "<div>\n",
       "<style scoped>\n",
       "    .dataframe tbody tr th:only-of-type {\n",
       "        vertical-align: middle;\n",
       "    }\n",
       "\n",
       "    .dataframe tbody tr th {\n",
       "        vertical-align: top;\n",
       "    }\n",
       "\n",
       "    .dataframe thead th {\n",
       "        text-align: right;\n",
       "    }\n",
       "</style>\n",
       "<table border=\"1\" class=\"dataframe\">\n",
       "  <thead>\n",
       "    <tr style=\"text-align: right;\">\n",
       "      <th></th>\n",
       "      <th>0</th>\n",
       "      <th>1</th>\n",
       "    </tr>\n",
       "  </thead>\n",
       "  <tbody>\n",
       "    <tr>\n",
       "      <th>Ghose</th>\n",
       "      <td>12</td>\n",
       "      <td>34</td>\n",
       "    </tr>\n",
       "    <tr>\n",
       "      <th>Lipinski_ro5</th>\n",
       "      <td>32</td>\n",
       "      <td>14</td>\n",
       "    </tr>\n",
       "    <tr>\n",
       "      <th>QED</th>\n",
       "      <td>23</td>\n",
       "      <td>23</td>\n",
       "    </tr>\n",
       "    <tr>\n",
       "      <th>REOS</th>\n",
       "      <td>20</td>\n",
       "      <td>26</td>\n",
       "    </tr>\n",
       "    <tr>\n",
       "      <th>Veber</th>\n",
       "      <td>31</td>\n",
       "      <td>15</td>\n",
       "    </tr>\n",
       "  </tbody>\n",
       "</table>\n",
       "</div>"
      ],
      "text/plain": [
       "               0   1\n",
       "Ghose         12  34\n",
       "Lipinski_ro5  32  14\n",
       "QED           23  23\n",
       "REOS          20  26\n",
       "Veber         31  15"
      ]
     },
     "execution_count": 12,
     "metadata": {},
     "output_type": "execute_result"
    }
   ],
   "source": [
    "df2"
   ]
  },
  {
   "cell_type": "code",
   "execution_count": 13,
   "id": "a575f828",
   "metadata": {},
   "outputs": [],
   "source": [
    "# import matplotlib library \n",
    "import matplotlib.pyplot as plt \n",
    "#%matplotlib inline"
   ]
  },
  {
   "cell_type": "code",
   "execution_count": 107,
   "id": "d48df0c8",
   "metadata": {
    "scrolled": false
   },
   "outputs": [
    {
     "data": {
      "text/plain": [
       "<matplotlib.legend.Legend at 0x147e7990490>"
      ]
     },
     "execution_count": 107,
     "metadata": {},
     "output_type": "execute_result"
    },
    {
     "data": {
      "image/png": "[encoded data removed]",
      "text/plain": [
       "<Figure size 500x500 with 1 Axes>"
      ]
     },
     "metadata": {},
     "output_type": "display_data"
    }
   ],
   "source": [
    "xx = df2.plot.bar(rot=0, stacked=True,\n",
    "                  figsize = [5,5],\n",
    "                  title='Bar plots showing drug-likeness across various filters',\n",
    "                  xlabel = 'Filters for drug-likeness',\n",
    "                  ylabel = 'Total number of drugs',\n",
    "                  #table = df2,\n",
    "                  linewidth = 4,\n",
    "                  edgecolor='white', \n",
    "                  #grid = 2\n",
    "\n",
    "                 )\n",
    "\n",
    "#plt.style.use('default')\n",
    "xx.set_facecolor(\"ghostwhite\")\n",
    "#%matplotlib inline\n",
    "\n",
    "xx.set_axisbelow(True)\n",
    "xx.yaxis.grid(color='white', linewidth = 2)\n",
    "#_ = xx.legend(bbox_to_anchor=(1, 1.02), loc='upper left')\n",
    "xx.legend(['Yes', \"No\"])\n",
    "#xx.axis('on')\n",
    "# plt.subplots_adjust(top=2)\n",
    "# plt.tight_layout()\n",
    "# plt.subplots_adjust(bottom=0.5)"
   ]
  },
  {
   "cell_type": "code",
   "execution_count": 98,
   "id": "edc4c6e6",
   "metadata": {},
   "outputs": [
    {
     "data": {
      "text/plain": [
       "<Figure size 640x480 with 0 Axes>"
      ]
     },
     "metadata": {},
     "output_type": "display_data"
    }
   ],
   "source": [
    "plt.savefig('data/misc/NTD_drug_profiles.png', dpi = 300)"
   ]
  },
  {
   "cell_type": "code",
   "execution_count": 108,
   "id": "d257e220",
   "metadata": {},
   "outputs": [],
   "source": [
    "\n",
    "xx.get_figure().savefig('data/misc/NTD_drug_profiles.png', format='png', dpi = 1000)"
   ]
  },
  {
   "cell_type": "code",
   "execution_count": 21,
   "id": "14713bca",
   "metadata": {},
   "outputs": [],
   "source": [
    "testdf = df_filters"
   ]
  },
  {
   "cell_type": "code",
   "execution_count": 102,
   "id": "ccd76253",
   "metadata": {
    "collapsed": true
   },
   "outputs": [
    {
     "data": {
      "image/png": "[encoded data removed]",
      "text/plain": [
       "<Figure size 1000x1000 with 1 Axes>"
      ]
     },
     "execution_count": 102,
     "metadata": {},
     "output_type": "execute_result"
    }
   ],
   "source": [
    "xx.get_figure()"
   ]
  },
  {
   "cell_type": "code",
   "execution_count": 22,
   "id": "1d0b2b4a",
   "metadata": {},
   "outputs": [],
   "source": [
    "testdf['Flag'] = testdf.sum(axis=1, numeric_only=True)"
   ]
  },
  {
   "cell_type": "code",
   "execution_count": 42,
   "id": "8fd1cea9",
   "metadata": {},
   "outputs": [
    {
     "data": {
      "text/html": [
       "<div>\n",
       "<style scoped>\n",
       "    .dataframe tbody tr th:only-of-type {\n",
       "        vertical-align: middle;\n",
       "    }\n",
       "\n",
       "    .dataframe tbody tr th {\n",
       "        vertical-align: top;\n",
       "    }\n",
       "\n",
       "    .dataframe thead th {\n",
       "        text-align: right;\n",
       "    }\n",
       "</style>\n",
       "<table border=\"1\" class=\"dataframe\">\n",
       "  <thead>\n",
       "    <tr style=\"text-align: right;\">\n",
       "      <th></th>\n",
       "      <th>Lipinski_ro5</th>\n",
       "      <th>Ghose</th>\n",
       "      <th>Veber</th>\n",
       "      <th>REOS</th>\n",
       "      <th>QED</th>\n",
       "      <th>Flag</th>\n",
       "    </tr>\n",
       "  </thead>\n",
       "  <tbody>\n",
       "    <tr>\n",
       "      <th>0</th>\n",
       "      <td>0</td>\n",
       "      <td>1</td>\n",
       "      <td>0</td>\n",
       "      <td>0</td>\n",
       "      <td>0</td>\n",
       "      <td>1</td>\n",
       "    </tr>\n",
       "    <tr>\n",
       "      <th>1</th>\n",
       "      <td>0</td>\n",
       "      <td>0</td>\n",
       "      <td>0</td>\n",
       "      <td>0</td>\n",
       "      <td>0</td>\n",
       "      <td>0</td>\n",
       "    </tr>\n",
       "    <tr>\n",
       "      <th>2</th>\n",
       "      <td>0</td>\n",
       "      <td>0</td>\n",
       "      <td>0</td>\n",
       "      <td>0</td>\n",
       "      <td>0</td>\n",
       "      <td>0</td>\n",
       "    </tr>\n",
       "    <tr>\n",
       "      <th>3</th>\n",
       "      <td>0</td>\n",
       "      <td>1</td>\n",
       "      <td>0</td>\n",
       "      <td>0</td>\n",
       "      <td>0</td>\n",
       "      <td>1</td>\n",
       "    </tr>\n",
       "    <tr>\n",
       "      <th>4</th>\n",
       "      <td>1</td>\n",
       "      <td>1</td>\n",
       "      <td>0</td>\n",
       "      <td>1</td>\n",
       "      <td>1</td>\n",
       "      <td>4</td>\n",
       "    </tr>\n",
       "    <tr>\n",
       "      <th>5</th>\n",
       "      <td>0</td>\n",
       "      <td>0</td>\n",
       "      <td>0</td>\n",
       "      <td>0</td>\n",
       "      <td>0</td>\n",
       "      <td>0</td>\n",
       "    </tr>\n",
       "    <tr>\n",
       "      <th>6</th>\n",
       "      <td>0</td>\n",
       "      <td>1</td>\n",
       "      <td>0</td>\n",
       "      <td>1</td>\n",
       "      <td>0</td>\n",
       "      <td>2</td>\n",
       "    </tr>\n",
       "    <tr>\n",
       "      <th>7</th>\n",
       "      <td>1</td>\n",
       "      <td>1</td>\n",
       "      <td>0</td>\n",
       "      <td>1</td>\n",
       "      <td>1</td>\n",
       "      <td>4</td>\n",
       "    </tr>\n",
       "    <tr>\n",
       "      <th>8</th>\n",
       "      <td>0</td>\n",
       "      <td>0</td>\n",
       "      <td>0</td>\n",
       "      <td>0</td>\n",
       "      <td>0</td>\n",
       "      <td>0</td>\n",
       "    </tr>\n",
       "    <tr>\n",
       "      <th>9</th>\n",
       "      <td>0</td>\n",
       "      <td>0</td>\n",
       "      <td>0</td>\n",
       "      <td>0</td>\n",
       "      <td>0</td>\n",
       "      <td>0</td>\n",
       "    </tr>\n",
       "    <tr>\n",
       "      <th>10</th>\n",
       "      <td>0</td>\n",
       "      <td>1</td>\n",
       "      <td>0</td>\n",
       "      <td>1</td>\n",
       "      <td>1</td>\n",
       "      <td>3</td>\n",
       "    </tr>\n",
       "    <tr>\n",
       "      <th>11</th>\n",
       "      <td>1</td>\n",
       "      <td>1</td>\n",
       "      <td>1</td>\n",
       "      <td>1</td>\n",
       "      <td>1</td>\n",
       "      <td>5</td>\n",
       "    </tr>\n",
       "    <tr>\n",
       "      <th>12</th>\n",
       "      <td>0</td>\n",
       "      <td>1</td>\n",
       "      <td>0</td>\n",
       "      <td>0</td>\n",
       "      <td>0</td>\n",
       "      <td>1</td>\n",
       "    </tr>\n",
       "    <tr>\n",
       "      <th>13</th>\n",
       "      <td>0</td>\n",
       "      <td>1</td>\n",
       "      <td>0</td>\n",
       "      <td>0</td>\n",
       "      <td>0</td>\n",
       "      <td>1</td>\n",
       "    </tr>\n",
       "    <tr>\n",
       "      <th>14</th>\n",
       "      <td>0</td>\n",
       "      <td>1</td>\n",
       "      <td>0</td>\n",
       "      <td>0</td>\n",
       "      <td>0</td>\n",
       "      <td>1</td>\n",
       "    </tr>\n",
       "    <tr>\n",
       "      <th>15</th>\n",
       "      <td>0</td>\n",
       "      <td>1</td>\n",
       "      <td>0</td>\n",
       "      <td>1</td>\n",
       "      <td>0</td>\n",
       "      <td>2</td>\n",
       "    </tr>\n",
       "    <tr>\n",
       "      <th>16</th>\n",
       "      <td>1</td>\n",
       "      <td>1</td>\n",
       "      <td>1</td>\n",
       "      <td>1</td>\n",
       "      <td>1</td>\n",
       "      <td>5</td>\n",
       "    </tr>\n",
       "    <tr>\n",
       "      <th>17</th>\n",
       "      <td>0</td>\n",
       "      <td>1</td>\n",
       "      <td>0</td>\n",
       "      <td>0</td>\n",
       "      <td>0</td>\n",
       "      <td>1</td>\n",
       "    </tr>\n",
       "    <tr>\n",
       "      <th>18</th>\n",
       "      <td>0</td>\n",
       "      <td>0</td>\n",
       "      <td>0</td>\n",
       "      <td>0</td>\n",
       "      <td>0</td>\n",
       "      <td>0</td>\n",
       "    </tr>\n",
       "    <tr>\n",
       "      <th>19</th>\n",
       "      <td>0</td>\n",
       "      <td>0</td>\n",
       "      <td>0</td>\n",
       "      <td>0</td>\n",
       "      <td>0</td>\n",
       "      <td>0</td>\n",
       "    </tr>\n",
       "    <tr>\n",
       "      <th>20</th>\n",
       "      <td>0</td>\n",
       "      <td>1</td>\n",
       "      <td>0</td>\n",
       "      <td>1</td>\n",
       "      <td>0</td>\n",
       "      <td>2</td>\n",
       "    </tr>\n",
       "    <tr>\n",
       "      <th>21</th>\n",
       "      <td>1</td>\n",
       "      <td>1</td>\n",
       "      <td>1</td>\n",
       "      <td>1</td>\n",
       "      <td>1</td>\n",
       "      <td>5</td>\n",
       "    </tr>\n",
       "    <tr>\n",
       "      <th>22</th>\n",
       "      <td>1</td>\n",
       "      <td>1</td>\n",
       "      <td>1</td>\n",
       "      <td>1</td>\n",
       "      <td>1</td>\n",
       "      <td>5</td>\n",
       "    </tr>\n",
       "    <tr>\n",
       "      <th>23</th>\n",
       "      <td>1</td>\n",
       "      <td>1</td>\n",
       "      <td>1</td>\n",
       "      <td>1</td>\n",
       "      <td>1</td>\n",
       "      <td>5</td>\n",
       "    </tr>\n",
       "    <tr>\n",
       "      <th>24</th>\n",
       "      <td>0</td>\n",
       "      <td>1</td>\n",
       "      <td>0</td>\n",
       "      <td>1</td>\n",
       "      <td>1</td>\n",
       "      <td>3</td>\n",
       "    </tr>\n",
       "    <tr>\n",
       "      <th>25</th>\n",
       "      <td>1</td>\n",
       "      <td>1</td>\n",
       "      <td>1</td>\n",
       "      <td>1</td>\n",
       "      <td>1</td>\n",
       "      <td>5</td>\n",
       "    </tr>\n",
       "    <tr>\n",
       "      <th>26</th>\n",
       "      <td>0</td>\n",
       "      <td>1</td>\n",
       "      <td>0</td>\n",
       "      <td>1</td>\n",
       "      <td>1</td>\n",
       "      <td>3</td>\n",
       "    </tr>\n",
       "    <tr>\n",
       "      <th>27</th>\n",
       "      <td>0</td>\n",
       "      <td>1</td>\n",
       "      <td>1</td>\n",
       "      <td>1</td>\n",
       "      <td>1</td>\n",
       "      <td>4</td>\n",
       "    </tr>\n",
       "    <tr>\n",
       "      <th>28</th>\n",
       "      <td>0</td>\n",
       "      <td>1</td>\n",
       "      <td>0</td>\n",
       "      <td>0</td>\n",
       "      <td>0</td>\n",
       "      <td>1</td>\n",
       "    </tr>\n",
       "    <tr>\n",
       "      <th>29</th>\n",
       "      <td>0</td>\n",
       "      <td>0</td>\n",
       "      <td>0</td>\n",
       "      <td>0</td>\n",
       "      <td>1</td>\n",
       "      <td>1</td>\n",
       "    </tr>\n",
       "    <tr>\n",
       "      <th>30</th>\n",
       "      <td>0</td>\n",
       "      <td>1</td>\n",
       "      <td>0</td>\n",
       "      <td>1</td>\n",
       "      <td>1</td>\n",
       "      <td>3</td>\n",
       "    </tr>\n",
       "    <tr>\n",
       "      <th>31</th>\n",
       "      <td>0</td>\n",
       "      <td>0</td>\n",
       "      <td>0</td>\n",
       "      <td>0</td>\n",
       "      <td>0</td>\n",
       "      <td>0</td>\n",
       "    </tr>\n",
       "    <tr>\n",
       "      <th>32</th>\n",
       "      <td>1</td>\n",
       "      <td>1</td>\n",
       "      <td>1</td>\n",
       "      <td>1</td>\n",
       "      <td>1</td>\n",
       "      <td>5</td>\n",
       "    </tr>\n",
       "    <tr>\n",
       "      <th>33</th>\n",
       "      <td>0</td>\n",
       "      <td>1</td>\n",
       "      <td>0</td>\n",
       "      <td>1</td>\n",
       "      <td>0</td>\n",
       "      <td>2</td>\n",
       "    </tr>\n",
       "    <tr>\n",
       "      <th>34</th>\n",
       "      <td>0</td>\n",
       "      <td>1</td>\n",
       "      <td>0</td>\n",
       "      <td>1</td>\n",
       "      <td>1</td>\n",
       "      <td>3</td>\n",
       "    </tr>\n",
       "    <tr>\n",
       "      <th>35</th>\n",
       "      <td>0</td>\n",
       "      <td>1</td>\n",
       "      <td>0</td>\n",
       "      <td>0</td>\n",
       "      <td>0</td>\n",
       "      <td>1</td>\n",
       "    </tr>\n",
       "    <tr>\n",
       "      <th>36</th>\n",
       "      <td>1</td>\n",
       "      <td>1</td>\n",
       "      <td>1</td>\n",
       "      <td>1</td>\n",
       "      <td>1</td>\n",
       "      <td>5</td>\n",
       "    </tr>\n",
       "    <tr>\n",
       "      <th>37</th>\n",
       "      <td>0</td>\n",
       "      <td>0</td>\n",
       "      <td>1</td>\n",
       "      <td>1</td>\n",
       "      <td>1</td>\n",
       "      <td>3</td>\n",
       "    </tr>\n",
       "    <tr>\n",
       "      <th>38</th>\n",
       "      <td>0</td>\n",
       "      <td>0</td>\n",
       "      <td>0</td>\n",
       "      <td>0</td>\n",
       "      <td>0</td>\n",
       "      <td>0</td>\n",
       "    </tr>\n",
       "    <tr>\n",
       "      <th>39</th>\n",
       "      <td>1</td>\n",
       "      <td>1</td>\n",
       "      <td>1</td>\n",
       "      <td>1</td>\n",
       "      <td>1</td>\n",
       "      <td>5</td>\n",
       "    </tr>\n",
       "    <tr>\n",
       "      <th>40</th>\n",
       "      <td>0</td>\n",
       "      <td>1</td>\n",
       "      <td>0</td>\n",
       "      <td>0</td>\n",
       "      <td>0</td>\n",
       "      <td>1</td>\n",
       "    </tr>\n",
       "    <tr>\n",
       "      <th>41</th>\n",
       "      <td>1</td>\n",
       "      <td>1</td>\n",
       "      <td>1</td>\n",
       "      <td>1</td>\n",
       "      <td>1</td>\n",
       "      <td>5</td>\n",
       "    </tr>\n",
       "    <tr>\n",
       "      <th>42</th>\n",
       "      <td>0</td>\n",
       "      <td>1</td>\n",
       "      <td>1</td>\n",
       "      <td>1</td>\n",
       "      <td>1</td>\n",
       "      <td>4</td>\n",
       "    </tr>\n",
       "    <tr>\n",
       "      <th>43</th>\n",
       "      <td>0</td>\n",
       "      <td>0</td>\n",
       "      <td>0</td>\n",
       "      <td>0</td>\n",
       "      <td>0</td>\n",
       "      <td>0</td>\n",
       "    </tr>\n",
       "    <tr>\n",
       "      <th>44</th>\n",
       "      <td>1</td>\n",
       "      <td>1</td>\n",
       "      <td>1</td>\n",
       "      <td>1</td>\n",
       "      <td>1</td>\n",
       "      <td>5</td>\n",
       "    </tr>\n",
       "    <tr>\n",
       "      <th>45</th>\n",
       "      <td>1</td>\n",
       "      <td>1</td>\n",
       "      <td>1</td>\n",
       "      <td>1</td>\n",
       "      <td>1</td>\n",
       "      <td>5</td>\n",
       "    </tr>\n",
       "  </tbody>\n",
       "</table>\n",
       "</div>"
      ],
      "text/plain": [
       "    Lipinski_ro5  Ghose  Veber  REOS  QED  Flag\n",
       "0              0      1      0     0    0     1\n",
       "1              0      0      0     0    0     0\n",
       "2              0      0      0     0    0     0\n",
       "3              0      1      0     0    0     1\n",
       "4              1      1      0     1    1     4\n",
       "5              0      0      0     0    0     0\n",
       "6              0      1      0     1    0     2\n",
       "7              1      1      0     1    1     4\n",
       "8              0      0      0     0    0     0\n",
       "9              0      0      0     0    0     0\n",
       "10             0      1      0     1    1     3\n",
       "11             1      1      1     1    1     5\n",
       "12             0      1      0     0    0     1\n",
       "13             0      1      0     0    0     1\n",
       "14             0      1      0     0    0     1\n",
       "15             0      1      0     1    0     2\n",
       "16             1      1      1     1    1     5\n",
       "17             0      1      0     0    0     1\n",
       "18             0      0      0     0    0     0\n",
       "19             0      0      0     0    0     0\n",
       "20             0      1      0     1    0     2\n",
       "21             1      1      1     1    1     5\n",
       "22             1      1      1     1    1     5\n",
       "23             1      1      1     1    1     5\n",
       "24             0      1      0     1    1     3\n",
       "25             1      1      1     1    1     5\n",
       "26             0      1      0     1    1     3\n",
       "27             0      1      1     1    1     4\n",
       "28             0      1      0     0    0     1\n",
       "29             0      0      0     0    1     1\n",
       "30             0      1      0     1    1     3\n",
       "31             0      0      0     0    0     0\n",
       "32             1      1      1     1    1     5\n",
       "33             0      1      0     1    0     2\n",
       "34             0      1      0     1    1     3\n",
       "35             0      1      0     0    0     1\n",
       "36             1      1      1     1    1     5\n",
       "37             0      0      1     1    1     3\n",
       "38             0      0      0     0    0     0\n",
       "39             1      1      1     1    1     5\n",
       "40             0      1      0     0    0     1\n",
       "41             1      1      1     1    1     5\n",
       "42             0      1      1     1    1     4\n",
       "43             0      0      0     0    0     0\n",
       "44             1      1      1     1    1     5\n",
       "45             1      1      1     1    1     5"
      ]
     },
     "execution_count": 42,
     "metadata": {},
     "output_type": "execute_result"
    }
   ],
   "source": [
    "testdf"
   ]
  },
  {
   "cell_type": "code",
   "execution_count": 23,
   "id": "985c2210",
   "metadata": {},
   "outputs": [],
   "source": [
    "df['Flag'] = list(testdf['Flag'])"
   ]
  },
  {
   "cell_type": "code",
   "execution_count": 45,
   "id": "4606cc2a",
   "metadata": {},
   "outputs": [
    {
     "data": {
      "text/plain": [
       "339.19880000000006"
      ]
     },
     "execution_count": 45,
     "metadata": {},
     "output_type": "execute_result"
    }
   ],
   "source": [
    "xx = df[df['Flag'] == 0]\n",
    "mean_xx = xx['MW'].mean()\n",
    "mean_xx"
   ]
  },
  {
   "cell_type": "code",
   "execution_count": 27,
   "id": "1768c1c5",
   "metadata": {},
   "outputs": [
    {
     "data": {
      "text/plain": [
       "12"
      ]
     },
     "execution_count": 27,
     "metadata": {},
     "output_type": "execute_result"
    }
   ],
   "source": [
    "aa = df[df['Flag'] == 5]\n",
    "len(aa)"
   ]
  },
  {
   "cell_type": "code",
   "execution_count": 32,
   "id": "2b707cc6",
   "metadata": {},
   "outputs": [],
   "source": [
    "df['Flag'] = df_filters['Flag']"
   ]
  },
  {
   "cell_type": "code",
   "execution_count": 38,
   "id": "614115be",
   "metadata": {},
   "outputs": [
    {
     "name": "stdout",
     "output_type": "stream",
     "text": [
      "C:\\Users\\reagon.karki\\Documents\\GitHub\\kgg\n"
     ]
    }
   ],
   "source": [
    "import os\n",
    "print(os.getcwd())"
   ]
  },
  {
   "cell_type": "code",
   "execution_count": 39,
   "id": "82ff794b",
   "metadata": {},
   "outputs": [],
   "source": [
    "df.to_csv('data/misc/NTD_drugs_revision.csv')"
   ]
  },
  {
   "cell_type": "code",
   "execution_count": 12,
   "id": "45f34ed0",
   "metadata": {},
   "outputs": [],
   "source": []
  },
  {
   "cell_type": "code",
   "execution_count": null,
   "id": "b1e4155a",
   "metadata": {},
   "outputs": [],
   "source": []
  },
  {
   "cell_type": "code",
   "execution_count": null,
   "id": "956405e5",
   "metadata": {},
   "outputs": [],
   "source": [
    "import py2neo"
   ]
  },
  {
   "cell_type": "code",
   "execution_count": null,
   "id": "748abd88",
   "metadata": {},
   "outputs": [],
   "source": [
    "## to Neo4j\n",
    "# Exporting graph to Neo4J\n",
    "import py2neo\n",
    "node_map = {}\n",
    "\n",
    "# NEO4J_USER = 'yojana'\n",
    "# NEO4J_PASS = 'abc'\n",
    "\n",
    "#neo_connection = py2neo.Graph('bolt://localhost:7687', auth=('neo4j', 'itmp'),name='mpoxkg')\n",
    "neo_connection = py2neo.Graph('bolt://localhost:7687', auth=('tndkg', 'tnd'),name = 'tnd')\n",
    "neo_connection.delete_all()\n",
    "tx = neo_connection.begin()\n",
    "\n",
    "nodes = list(tnd)\n",
    "\n",
    "dbio = nx.get_node_attributes(tnd,'3Dbio')\n",
    "uprot = nx.get_node_attributes(tnd,'UniProt')\n",
    "chembl = nx.get_node_attributes(tnd,'ChEMBL')\n",
    "uprot_predicted = nx.get_node_attributes(tnd,'Type')\n",
    "\n",
    "for node in tqdm(nodes, desc=\"nodes\"):\n",
    "    attrs = {\"namespace\": node.namespace}\n",
    "\n",
    "    if node.name and node.identifier:\n",
    "        attrs[\"name\"] = node.name\n",
    "        attrs[\"identifier\"] = node.identifier\n",
    "    elif node.identifier and not node.name:\n",
    "        attrs[\"name\"] = node.identifier\n",
    "    elif node.name and not node.identifier:\n",
    "        attrs[\"name\"] = node.name\n",
    "    \n",
    "    if node in dbio:\n",
    "        attrs['3Dbio'] = dbio[node]\n",
    "        \n",
    "    if node in uprot:\n",
    "        attrs['UniProt'] = uprot[node]\n",
    "        \n",
    "    if node in chembl:\n",
    "        attrs['ChEMBL'] = chembl[node]\n",
    "        \n",
    "    if node in uprot_predicted:\n",
    "        attrs['Type'] = uprot_predicted[node]\n",
    "\n",
    "    node_map[node] = py2neo.Node(node.function, **attrs)\n",
    "\n",
    "    tx.create(node_map[node])\n",
    "\n",
    "edges = tnd.edges(keys=True, data=True)\n",
    "\n",
    "for u, v, key, node in tqdm(edges, desc=\"edges\"):\n",
    "    rel_type = node['relation']\n",
    "\n",
    "    d = node.copy()\n",
    "    del d['relation']\n",
    "\n",
    "    attrs = {}\n",
    "\n",
    "    annotations = d.pop('annotations', None)\n",
    "    if annotations:\n",
    "        for annotation, values in annotations.items():\n",
    "            attrs[annotation] = list(values)\n",
    "\n",
    "    citation = d.pop('citation', None)\n",
    "    if citation:\n",
    "        attrs['citation'] = citation.curie\n",
    "\n",
    "    if 'evidence' in d:\n",
    "        attrs['evidence'] = d['evidence']\n",
    "\n",
    "    rel = py2neo.Relationship(node_map[u], rel_type, node_map[v], key=key, **attrs)\n",
    "    tx.create(rel)\n",
    "    \n",
    "tx.commit()"
   ]
  }
 ],
 "metadata": {
  "kernelspec": {
   "display_name": "Python 3 (ipykernel)",
   "language": "python",
   "name": "python3"
  },
  "language_info": {
   "codemirror_mode": {
    "name": "ipython",
    "version": 3
   },
   "file_extension": ".py",
   "mimetype": "text/x-python",
   "name": "python",
   "nbconvert_exporter": "python",
   "pygments_lexer": "ipython3",
   "version": "3.9.18"
  }
 },
 "nbformat": 4,
 "nbformat_minor": 5
}
