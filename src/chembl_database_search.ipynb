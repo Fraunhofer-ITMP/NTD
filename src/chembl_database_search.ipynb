{
 "cells": [
  {
   "cell_type": "markdown",
   "metadata": {},
   "source": [
    "# Search drugs for neglected diseases in ChEMBL"
   ]
  },
  {
   "cell_type": "markdown",
   "metadata": {},
   "source": [
    "### Import modules"
   ]
  },
  {
   "cell_type": "code",
   "execution_count": 1,
   "metadata": {},
   "outputs": [],
   "source": [
    "import pandas as pd\n",
    "import sqlite3\n",
    "\n",
    "pd.options.mode.chained_assignment = None"
   ]
  },
  {
   "cell_type": "markdown",
   "metadata": {},
   "source": [
    "### Load ChEMBL Database (version 33)\n",
    "The database can be downloded from the ChEMBL FTP servers [here](https://ftp.ebi.ac.uk/pub/databases/chembl/ChEMBLdb/latest/)."
   ]
  },
  {
   "cell_type": "code",
   "execution_count": 2,
   "metadata": {},
   "outputs": [],
   "source": [
    "conn = sqlite3.connect('../data/ChEMBL/v33/chembl_33.db')"
   ]
  },
  {
   "cell_type": "code",
   "execution_count": 3,
   "metadata": {},
   "outputs": [],
   "source": [
    "cursor = conn.execute(\"SELECT name from sqlite_master WHERE type='table';\")"
   ]
  },
  {
   "cell_type": "code",
   "execution_count": 4,
   "metadata": {},
   "outputs": [],
   "source": [
    "assert len(cursor.fetchall()) > 1"
   ]
  },
  {
   "cell_type": "code",
   "execution_count": 5,
   "metadata": {},
   "outputs": [],
   "source": [
    "sql = \"\"\"\n",
    "SELECT \n",
    "    MOLECULE_DICTIONARY.CHEMBL_ID,\n",
    "    MOLECULE_DICTIONARY.PREF_NAME,\n",
    "    COMPOUND_STRUCTURES.CANONICAL_SMILES,\n",
    "    COMPOUND_STRUCTURES.STANDARD_INCHI,\n",
    "    COMPOUND_STRUCTURES.STANDARD_INCHI_KEY,\n",
    "    MOLECULE_DICTIONARY.MAX_PHASE,\n",
    "    MOLECULE_DICTIONARY.INDICATION_CLASS,\n",
    "    MOLECULE_DICTIONARY.WITHDRAWN_FLAG,\n",
    "    MOLECULE_DICTIONARY.BLACK_BOX_WARNING,\n",
    "    DRUG_INDICATION.DRUGIND_ID,\n",
    "    DRUG_INDICATION.MAX_PHASE_FOR_IND,\n",
    "    DRUG_INDICATION.MESH_ID,\n",
    "    DRUG_INDICATION.MESH_HEADING,\n",
    "    INDICATION_REFS.REF_TYPE,\n",
    "    INDICATION_REFS.REF_ID,\n",
    "    INDICATION_REFS.REF_URL\n",
    "FROM MOLECULE_DICTIONARY\n",
    "JOIN DRUG_INDICATION ON MOLECULE_DICTIONARY.molregno == DRUG_INDICATION.molregno\n",
    "JOIN INDICATION_REFS ON DRUG_INDICATION.DRUGIND_ID == INDICATION_REFS.DRUGIND_ID\n",
    "JOIN COMPOUND_STRUCTURES ON MOLECULE_DICTIONARY.molregno == COMPOUND_STRUCTURES.molregno\n",
    "\"\"\""
   ]
  },
  {
   "cell_type": "code",
   "execution_count": 6,
   "metadata": {},
   "outputs": [],
   "source": [
    "chembl_data = pd.read_sql(sql=sql, con=conn)"
   ]
  },
  {
   "cell_type": "markdown",
   "metadata": {},
   "source": [
    "### MESH IDs for diseases"
   ]
  },
  {
   "cell_type": "code",
   "execution_count": 7,
   "metadata": {},
   "outputs": [],
   "source": [
    "who_neglected_disease = [\n",
    "    \"D054312\",  # Buruli Ulcer\n",
    "    \"D014355\", # Chagas Disease\n",
    "    \"D065632\", # Chikungunya\n",
    "    \"D003715\", # Dengue\n",
    "    \"D002862\", # Chromoblastomycosis\n",
    "    \"D004320\", # Dracunculiasis\n",
    "    \"D004443\", # Echinococcosis\n",
    "    \"D014353\", # Human African trypanosomiasis\n",
    "    \"D016833\", # Trypanosoma brucei rhodesiense\n",
    "    \"D014347\", # Trypanosoma brucei gambiense\n",
    "    \"D016773\", # Leishmaniasis (cutaneous)\n",
    "    \"D007898\", # Leishmaniasis (visceral)\n",
    "    \"D007918\", # Leprosy\n",
    "    \"D004605\", # Lymphatic filariasis (LF) / Elephantiasis, Filarial\n",
    "    \"D008271\", # Mycetoma\n",
    "    \"D009855\", # Onchocerciasis\n",
    "    \"D011818\", # Rabies\n",
    "    \"D012532\", # Scabies\n",
    "    \"D012552\", # Schistosomiasis\n",
    "    \"D012909\", # Snakebite envenoming\n",
    "    \"D013622\", # Taeniasis\n",
    "    \"D003551\", # Cysticercosis\n",
    "    \"D014141\", # Trachoma\n",
    "    \"D015001\", # Yaws\n",
    "    \"D013322\", # Strongyloidiasis \n",
    "]"
   ]
  },
  {
   "cell_type": "markdown",
   "metadata": {},
   "source": [
    "### Subset the database to diseases of interest with clinical drugs"
   ]
  },
  {
   "cell_type": "code",
   "execution_count": 8,
   "metadata": {},
   "outputs": [
    {
     "data": {
      "text/html": [
       "<div>\n",
       "<style scoped>\n",
       "    .dataframe tbody tr th:only-of-type {\n",
       "        vertical-align: middle;\n",
       "    }\n",
       "\n",
       "    .dataframe tbody tr th {\n",
       "        vertical-align: top;\n",
       "    }\n",
       "\n",
       "    .dataframe thead th {\n",
       "        text-align: right;\n",
       "    }\n",
       "</style>\n",
       "<table border=\"1\" class=\"dataframe\">\n",
       "  <thead>\n",
       "    <tr style=\"text-align: right;\">\n",
       "      <th></th>\n",
       "      <th>chembl_id</th>\n",
       "      <th>pref_name</th>\n",
       "      <th>canonical_smiles</th>\n",
       "      <th>standard_inchi</th>\n",
       "      <th>standard_inchi_key</th>\n",
       "      <th>max_phase</th>\n",
       "      <th>indication_class</th>\n",
       "      <th>withdrawn_flag</th>\n",
       "      <th>black_box_warning</th>\n",
       "      <th>drugind_id</th>\n",
       "      <th>max_phase_for_ind</th>\n",
       "      <th>mesh_id</th>\n",
       "      <th>mesh_heading</th>\n",
       "      <th>ref_type</th>\n",
       "      <th>ref_id</th>\n",
       "      <th>ref_url</th>\n",
       "    </tr>\n",
       "  </thead>\n",
       "  <tbody>\n",
       "    <tr>\n",
       "      <th>4372</th>\n",
       "      <td>CHEMBL1200689</td>\n",
       "      <td>NITRIC OXIDE</td>\n",
       "      <td>[N]=O</td>\n",
       "      <td>InChI=1S/NO/c1-2</td>\n",
       "      <td>MWUXSHHQAYIFBG-UHFFFAOYSA-N</td>\n",
       "      <td>4.0</td>\n",
       "      <td>None</td>\n",
       "      <td>0</td>\n",
       "      <td>0</td>\n",
       "      <td>23580</td>\n",
       "      <td>3.0</td>\n",
       "      <td>D016773</td>\n",
       "      <td>Leishmaniasis, Cutaneous</td>\n",
       "      <td>ClinicalTrials</td>\n",
       "      <td>NCT00317629</td>\n",
       "      <td>https://clinicaltrials.gov/ct2/results?id=%22N...</td>\n",
       "    </tr>\n",
       "    <tr>\n",
       "      <th>7584</th>\n",
       "      <td>CHEMBL131</td>\n",
       "      <td>PREDNISOLONE</td>\n",
       "      <td>C[C@]12C=CC(=O)C=C1CC[C@@H]1[C@@H]2[C@@H](O)C[...</td>\n",
       "      <td>InChI=1S/C21H28O5/c1-19-7-5-13(23)9-12(19)3-4-...</td>\n",
       "      <td>OIGNJSKKLXVSLS-VWUMJDOOSA-N</td>\n",
       "      <td>4.0</td>\n",
       "      <td>Glucocorticoid</td>\n",
       "      <td>0</td>\n",
       "      <td>0</td>\n",
       "      <td>24801</td>\n",
       "      <td>2.0</td>\n",
       "      <td>D007918</td>\n",
       "      <td>Leprosy</td>\n",
       "      <td>ClinicalTrials</td>\n",
       "      <td>NCT00919542,NCT00919776,NCT00919815</td>\n",
       "      <td>https://clinicaltrials.gov/ct2/results?id=%22N...</td>\n",
       "    </tr>\n",
       "  </tbody>\n",
       "</table>\n",
       "</div>"
      ],
      "text/plain": [
       "          chembl_id     pref_name   \n",
       "4372  CHEMBL1200689  NITRIC OXIDE  \\\n",
       "7584      CHEMBL131  PREDNISOLONE   \n",
       "\n",
       "                                       canonical_smiles   \n",
       "4372                                              [N]=O  \\\n",
       "7584  C[C@]12C=CC(=O)C=C1CC[C@@H]1[C@@H]2[C@@H](O)C[...   \n",
       "\n",
       "                                         standard_inchi   \n",
       "4372                                   InChI=1S/NO/c1-2  \\\n",
       "7584  InChI=1S/C21H28O5/c1-19-7-5-13(23)9-12(19)3-4-...   \n",
       "\n",
       "               standard_inchi_key  max_phase indication_class  withdrawn_flag   \n",
       "4372  MWUXSHHQAYIFBG-UHFFFAOYSA-N        4.0             None               0  \\\n",
       "7584  OIGNJSKKLXVSLS-VWUMJDOOSA-N        4.0   Glucocorticoid               0   \n",
       "\n",
       "      black_box_warning  drugind_id  max_phase_for_ind  mesh_id   \n",
       "4372                  0       23580                3.0  D016773  \\\n",
       "7584                  0       24801                2.0  D007918   \n",
       "\n",
       "                  mesh_heading        ref_type   \n",
       "4372  Leishmaniasis, Cutaneous  ClinicalTrials  \\\n",
       "7584                   Leprosy  ClinicalTrials   \n",
       "\n",
       "                                   ref_id   \n",
       "4372                          NCT00317629  \\\n",
       "7584  NCT00919542,NCT00919776,NCT00919815   \n",
       "\n",
       "                                                ref_url  \n",
       "4372  https://clinicaltrials.gov/ct2/results?id=%22N...  \n",
       "7584  https://clinicaltrials.gov/ct2/results?id=%22N...  "
      ]
     },
     "execution_count": 8,
     "metadata": {},
     "output_type": "execute_result"
    }
   ],
   "source": [
    "m = chembl_data['mesh_id'].isin(who_neglected_disease)\n",
    "n = chembl_data['max_phase_for_ind'] > 1  # Phase 3 or 4\n",
    "o = chembl_data['max_phase'] >= 3.0 # Approved only\n",
    "subset = chembl_data[m & n & o]\n",
    "subset.head(2)"
   ]
  },
  {
   "cell_type": "code",
   "execution_count": 9,
   "metadata": {},
   "outputs": [],
   "source": [
    "# Drop duplicates\n",
    "subset.drop_duplicates(subset=['chembl_id', \"mesh_id\"], keep='first', inplace=True)"
   ]
  },
  {
   "cell_type": "code",
   "execution_count": 10,
   "metadata": {},
   "outputs": [
    {
     "data": {
      "text/plain": [
       "mesh_heading\n",
       "Leprosy                     8\n",
       "Leishmaniasis, Cutaneous    7\n",
       "Chagas Disease              6\n",
       "Leishmaniasis, Visceral     5\n",
       "Onchocerciasis              5\n",
       "Elephantiasis, Filarial     5\n",
       "Cysticercosis               5\n",
       "Schistosomiasis             5\n",
       "Buruli Ulcer                5\n",
       "Strongyloidiasis            3\n",
       "Trypanosomiasis, African    3\n",
       "Dengue                      2\n",
       "Yaws                        2\n",
       "Mycetoma                    1\n",
       "Scabies                     1\n",
       "Name: count, dtype: int64"
      ]
     },
     "execution_count": 10,
     "metadata": {},
     "output_type": "execute_result"
    }
   ],
   "source": [
    "subset[\"mesh_heading\"].value_counts()"
   ]
  },
  {
   "cell_type": "code",
   "execution_count": 11,
   "metadata": {},
   "outputs": [
    {
     "data": {
      "text/plain": [
       "46"
      ]
     },
     "execution_count": 11,
     "metadata": {},
     "output_type": "execute_result"
    }
   ],
   "source": [
    "subset[\"chembl_id\"].nunique()"
   ]
  },
  {
   "cell_type": "code",
   "execution_count": 12,
   "metadata": {},
   "outputs": [],
   "source": [
    "subset.to_csv(\"../data/ntd_drugs.tsv\", sep='\\t', index=False)"
   ]
  },
  {
   "cell_type": "code",
   "execution_count": null,
   "metadata": {},
   "outputs": [],
   "source": []
  }
 ],
 "metadata": {
  "kernelspec": {
   "display_name": "scrap",
   "language": "python",
   "name": "python3"
  },
  "language_info": {
   "codemirror_mode": {
    "name": "ipython",
    "version": 3
   },
   "file_extension": ".py",
   "mimetype": "text/x-python",
   "name": "python",
   "nbconvert_exporter": "python",
   "pygments_lexer": "ipython3",
   "version": "3.9.16"
  }
 },
 "nbformat": 4,
 "nbformat_minor": 2
}
