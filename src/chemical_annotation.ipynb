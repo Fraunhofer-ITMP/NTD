{
 "cells": [
  {
   "cell_type": "markdown",
   "metadata": {},
   "source": [
    "# Annotate physicochemical properties for NTD drugs"
   ]
  },
  {
   "cell_type": "markdown",
   "metadata": {},
   "source": [
    "### Import modules"
   ]
  },
  {
   "cell_type": "code",
   "execution_count": 1,
   "metadata": {},
   "outputs": [],
   "source": [
    "import pandas as pd\n",
    "from tqdm import tqdm\n",
    "from rdkit import Chem\n",
    "from rdkit.Chem import Descriptors"
   ]
  },
  {
   "cell_type": "markdown",
   "metadata": {},
   "source": [
    "### Load data"
   ]
  },
  {
   "cell_type": "code",
   "execution_count": 2,
   "metadata": {},
   "outputs": [
    {
     "data": {
      "text/html": [
       "<div>\n",
       "<style scoped>\n",
       "    .dataframe tbody tr th:only-of-type {\n",
       "        vertical-align: middle;\n",
       "    }\n",
       "\n",
       "    .dataframe tbody tr th {\n",
       "        vertical-align: top;\n",
       "    }\n",
       "\n",
       "    .dataframe thead th {\n",
       "        text-align: right;\n",
       "    }\n",
       "</style>\n",
       "<table border=\"1\" class=\"dataframe\">\n",
       "  <thead>\n",
       "    <tr style=\"text-align: right;\">\n",
       "      <th></th>\n",
       "      <th>chembl_id</th>\n",
       "      <th>pref_name</th>\n",
       "      <th>canonical_smiles</th>\n",
       "      <th>standard_inchi</th>\n",
       "      <th>standard_inchi_key</th>\n",
       "      <th>max_phase</th>\n",
       "      <th>indication_class</th>\n",
       "      <th>withdrawn_flag</th>\n",
       "      <th>black_box_warning</th>\n",
       "      <th>drugind_id</th>\n",
       "      <th>max_phase_for_ind</th>\n",
       "      <th>mesh_id</th>\n",
       "      <th>mesh_heading</th>\n",
       "      <th>ref_type</th>\n",
       "      <th>ref_id</th>\n",
       "      <th>ref_url</th>\n",
       "    </tr>\n",
       "  </thead>\n",
       "  <tbody>\n",
       "    <tr>\n",
       "      <th>0</th>\n",
       "      <td>CHEMBL1200689</td>\n",
       "      <td>NITRIC OXIDE</td>\n",
       "      <td>[N]=O</td>\n",
       "      <td>InChI=1S/NO/c1-2</td>\n",
       "      <td>MWUXSHHQAYIFBG-UHFFFAOYSA-N</td>\n",
       "      <td>4.0</td>\n",
       "      <td>NaN</td>\n",
       "      <td>0</td>\n",
       "      <td>0</td>\n",
       "      <td>23580</td>\n",
       "      <td>3.0</td>\n",
       "      <td>D016773</td>\n",
       "      <td>Leishmaniasis, Cutaneous</td>\n",
       "      <td>ClinicalTrials</td>\n",
       "      <td>NCT00317629</td>\n",
       "      <td>https://clinicaltrials.gov/ct2/results?id=%22N...</td>\n",
       "    </tr>\n",
       "    <tr>\n",
       "      <th>1</th>\n",
       "      <td>CHEMBL131</td>\n",
       "      <td>PREDNISOLONE</td>\n",
       "      <td>C[C@]12C=CC(=O)C=C1CC[C@@H]1[C@@H]2[C@@H](O)C[...</td>\n",
       "      <td>InChI=1S/C21H28O5/c1-19-7-5-13(23)9-12(19)3-4-...</td>\n",
       "      <td>OIGNJSKKLXVSLS-VWUMJDOOSA-N</td>\n",
       "      <td>4.0</td>\n",
       "      <td>Glucocorticoid</td>\n",
       "      <td>0</td>\n",
       "      <td>0</td>\n",
       "      <td>24801</td>\n",
       "      <td>2.0</td>\n",
       "      <td>D007918</td>\n",
       "      <td>Leprosy</td>\n",
       "      <td>ClinicalTrials</td>\n",
       "      <td>NCT00919542,NCT00919776,NCT00919815</td>\n",
       "      <td>https://clinicaltrials.gov/ct2/results?id=%22N...</td>\n",
       "    </tr>\n",
       "  </tbody>\n",
       "</table>\n",
       "</div>"
      ],
      "text/plain": [
       "       chembl_id     pref_name   \n",
       "0  CHEMBL1200689  NITRIC OXIDE  \\\n",
       "1      CHEMBL131  PREDNISOLONE   \n",
       "\n",
       "                                    canonical_smiles   \n",
       "0                                              [N]=O  \\\n",
       "1  C[C@]12C=CC(=O)C=C1CC[C@@H]1[C@@H]2[C@@H](O)C[...   \n",
       "\n",
       "                                      standard_inchi   \n",
       "0                                   InChI=1S/NO/c1-2  \\\n",
       "1  InChI=1S/C21H28O5/c1-19-7-5-13(23)9-12(19)3-4-...   \n",
       "\n",
       "            standard_inchi_key  max_phase indication_class  withdrawn_flag   \n",
       "0  MWUXSHHQAYIFBG-UHFFFAOYSA-N        4.0              NaN               0  \\\n",
       "1  OIGNJSKKLXVSLS-VWUMJDOOSA-N        4.0   Glucocorticoid               0   \n",
       "\n",
       "   black_box_warning  drugind_id  max_phase_for_ind  mesh_id   \n",
       "0                  0       23580                3.0  D016773  \\\n",
       "1                  0       24801                2.0  D007918   \n",
       "\n",
       "               mesh_heading        ref_type   \n",
       "0  Leishmaniasis, Cutaneous  ClinicalTrials  \\\n",
       "1                   Leprosy  ClinicalTrials   \n",
       "\n",
       "                                ref_id   \n",
       "0                          NCT00317629  \\\n",
       "1  NCT00919542,NCT00919776,NCT00919815   \n",
       "\n",
       "                                             ref_url  \n",
       "0  https://clinicaltrials.gov/ct2/results?id=%22N...  \n",
       "1  https://clinicaltrials.gov/ct2/results?id=%22N...  "
      ]
     },
     "execution_count": 2,
     "metadata": {},
     "output_type": "execute_result"
    }
   ],
   "source": [
    "df = pd.read_csv(\"../data/ntd_drugs.tsv\", sep=\"\\t\")\n",
    "df.head(2)"
   ]
  },
  {
   "cell_type": "markdown",
   "metadata": {},
   "source": [
    "### Calculate chemphys properties"
   ]
  },
  {
   "cell_type": "code",
   "execution_count": 3,
   "metadata": {},
   "outputs": [],
   "source": [
    "df = df[[\"chembl_id\", \"pref_name\", \"canonical_smiles\"]]\n",
    "df.drop_duplicates(inplace=True)"
   ]
  },
  {
   "cell_type": "code",
   "execution_count": 4,
   "metadata": {},
   "outputs": [
    {
     "name": "stderr",
     "output_type": "stream",
     "text": [
      "100%|██████████| 46/46 [00:00<00:00, 375.31it/s]\n"
     ]
    }
   ],
   "source": [
    "chemphys_data = []\n",
    "\n",
    "for idx, name, smiles in tqdm(df.values):\n",
    "\n",
    "    # Desalting step\n",
    "    if \".\" in smiles:\n",
    "        all_smiles = smiles.split(\".\")\n",
    "        smiles = sorted(all_smiles, key=len)[0]\n",
    "\n",
    "    mol = Chem.MolFromSmiles(smiles)\n",
    "\n",
    "    if mol is None:\n",
    "        continue\n",
    "\n",
    "    mw = Descriptors.ExactMolWt(mol)\n",
    "    logp = Descriptors.MolLogP(mol)\n",
    "    hbd = Descriptors.NumHDonors(mol)\n",
    "    hba = Descriptors.NumHAcceptors(mol)\n",
    "    rot_bonds = Descriptors.NumRotatableBonds(mol)\n",
    "    tpsa = Chem.rdMolDescriptors.CalcTPSA(mol)\n",
    "    heavy_atoms = mol.GetNumHeavyAtoms()\n",
    "\n",
    "    chemphys_data.append(\n",
    "        {\n",
    "            \"chembl_id\": idx,\n",
    "            \"pref_name\": name,\n",
    "            \"canonical_smiles\": smiles,\n",
    "            \"MW (Da)\": mw,\n",
    "            \"ALogP\": logp,\n",
    "            \"Rotatable bonds\": rot_bonds,\n",
    "            \"TPSA\": tpsa,\n",
    "            \"HBD\": hbd,\n",
    "            \"HBA\": hba,\n",
    "            \"HAC\": heavy_atoms,\n",
    "        }\n",
    "    )\n",
    "\n",
    "chemphys_df = pd.DataFrame(chemphys_data)"
   ]
  },
  {
   "cell_type": "code",
   "execution_count": 5,
   "metadata": {},
   "outputs": [
    {
     "data": {
      "text/html": [
       "<div>\n",
       "<style scoped>\n",
       "    .dataframe tbody tr th:only-of-type {\n",
       "        vertical-align: middle;\n",
       "    }\n",
       "\n",
       "    .dataframe tbody tr th {\n",
       "        vertical-align: top;\n",
       "    }\n",
       "\n",
       "    .dataframe thead th {\n",
       "        text-align: right;\n",
       "    }\n",
       "</style>\n",
       "<table border=\"1\" class=\"dataframe\">\n",
       "  <thead>\n",
       "    <tr style=\"text-align: right;\">\n",
       "      <th></th>\n",
       "      <th>chembl_id</th>\n",
       "      <th>pref_name</th>\n",
       "      <th>canonical_smiles</th>\n",
       "      <th>MW (Da)</th>\n",
       "      <th>ALogP</th>\n",
       "      <th>Rotatable bonds</th>\n",
       "      <th>TPSA</th>\n",
       "      <th>HBD</th>\n",
       "      <th>HBA</th>\n",
       "      <th>HAC</th>\n",
       "    </tr>\n",
       "  </thead>\n",
       "  <tbody>\n",
       "    <tr>\n",
       "      <th>0</th>\n",
       "      <td>CHEMBL1200689</td>\n",
       "      <td>NITRIC OXIDE</td>\n",
       "      <td>[N]=O</td>\n",
       "      <td>29.997989</td>\n",
       "      <td>-0.4471</td>\n",
       "      <td>0</td>\n",
       "      <td>39.37</td>\n",
       "      <td>0</td>\n",
       "      <td>1</td>\n",
       "      <td>2</td>\n",
       "    </tr>\n",
       "    <tr>\n",
       "      <th>1</th>\n",
       "      <td>CHEMBL131</td>\n",
       "      <td>PREDNISOLONE</td>\n",
       "      <td>C[C@]12C=CC(=O)C=C1CC[C@@H]1[C@@H]2[C@@H](O)C[...</td>\n",
       "      <td>360.193674</td>\n",
       "      <td>1.5576</td>\n",
       "      <td>2</td>\n",
       "      <td>94.83</td>\n",
       "      <td>3</td>\n",
       "      <td>5</td>\n",
       "      <td>26</td>\n",
       "    </tr>\n",
       "  </tbody>\n",
       "</table>\n",
       "</div>"
      ],
      "text/plain": [
       "       chembl_id     pref_name   \n",
       "0  CHEMBL1200689  NITRIC OXIDE  \\\n",
       "1      CHEMBL131  PREDNISOLONE   \n",
       "\n",
       "                                    canonical_smiles     MW (Da)   ALogP   \n",
       "0                                              [N]=O   29.997989 -0.4471  \\\n",
       "1  C[C@]12C=CC(=O)C=C1CC[C@@H]1[C@@H]2[C@@H](O)C[...  360.193674  1.5576   \n",
       "\n",
       "   Rotatable bonds   TPSA  HBD  HBA  HAC  \n",
       "0                0  39.37    0    1    2  \n",
       "1                2  94.83    3    5   26  "
      ]
     },
     "execution_count": 5,
     "metadata": {},
     "output_type": "execute_result"
    }
   ],
   "source": [
    "chemphys_df.head(2)"
   ]
  },
  {
   "cell_type": "code",
   "execution_count": 6,
   "metadata": {},
   "outputs": [],
   "source": [
    "chemphys_df.to_csv(\"../data/ntd_drugs_chemphys.tsv\", sep=\"\\t\", index=False)"
   ]
  },
  {
   "cell_type": "markdown",
   "metadata": {},
   "source": [
    "# Physicochemical exploration"
   ]
  },
  {
   "cell_type": "code",
   "execution_count": 7,
   "metadata": {},
   "outputs": [
    {
     "data": {
      "text/plain": [
       "<Axes: title={'center': 'Molecular Weight (Da)'}, ylabel='Frequency'>"
      ]
     },
     "execution_count": 7,
     "metadata": {},
     "output_type": "execute_result"
    },
    {
     "data": {
      "image/png": "[encoded data removed]",
      "text/plain": [
       "<Figure size 640x480 with 1 Axes>"
      ]
     },
     "metadata": {},
     "output_type": "display_data"
    }
   ],
   "source": [
    "chemphys_df[\"MW (Da)\"] = chemphys_df[\"MW (Da)\"].round(2)\n",
    "chemphys_df[\"MW (Da)\"].plot(kind=\"hist\", bins=50, title=\"Molecular Weight (Da)\")"
   ]
  },
  {
   "cell_type": "code",
   "execution_count": 8,
   "metadata": {},
   "outputs": [
    {
     "data": {
      "text/plain": [
       "(372.3495652173913, 271.0981028742713)"
      ]
     },
     "execution_count": 8,
     "metadata": {},
     "output_type": "execute_result"
    }
   ],
   "source": [
    "chemphys_df[\"MW (Da)\"].mean(), chemphys_df[\"MW (Da)\"].std()"
   ]
  },
  {
   "cell_type": "code",
   "execution_count": 9,
   "metadata": {},
   "outputs": [
    {
     "data": {
      "text/html": [
       "<div>\n",
       "<style scoped>\n",
       "    .dataframe tbody tr th:only-of-type {\n",
       "        vertical-align: middle;\n",
       "    }\n",
       "\n",
       "    .dataframe tbody tr th {\n",
       "        vertical-align: top;\n",
       "    }\n",
       "\n",
       "    .dataframe thead th {\n",
       "        text-align: right;\n",
       "    }\n",
       "</style>\n",
       "<table border=\"1\" class=\"dataframe\">\n",
       "  <thead>\n",
       "    <tr style=\"text-align: right;\">\n",
       "      <th></th>\n",
       "      <th>chembl_id</th>\n",
       "      <th>pref_name</th>\n",
       "      <th>canonical_smiles</th>\n",
       "      <th>MW (Da)</th>\n",
       "      <th>ALogP</th>\n",
       "      <th>Rotatable bonds</th>\n",
       "      <th>TPSA</th>\n",
       "      <th>HBD</th>\n",
       "      <th>HBA</th>\n",
       "      <th>HAC</th>\n",
       "    </tr>\n",
       "  </thead>\n",
       "  <tbody>\n",
       "    <tr>\n",
       "      <th>2</th>\n",
       "      <td>CHEMBL160</td>\n",
       "      <td>CYCLOSPORINE</td>\n",
       "      <td>C/C=C/C[C@@H](C)[C@@H](O)[C@H]1C(=O)N[C@@H](CC...</td>\n",
       "      <td>1201.84</td>\n",
       "      <td>3.26900</td>\n",
       "      <td>15</td>\n",
       "      <td>278.80</td>\n",
       "      <td>5</td>\n",
       "      <td>12</td>\n",
       "      <td>85</td>\n",
       "    </tr>\n",
       "    <tr>\n",
       "      <th>7</th>\n",
       "      <td>CHEMBL267345</td>\n",
       "      <td>AMPHOTERICIN B</td>\n",
       "      <td>C[C@@H]1[C@H](O)[C@@H](C)/C=C/C=C/C=C/C=C/C=C/...</td>\n",
       "      <td>923.49</td>\n",
       "      <td>0.71170</td>\n",
       "      <td>3</td>\n",
       "      <td>319.61</td>\n",
       "      <td>12</td>\n",
       "      <td>17</td>\n",
       "      <td>65</td>\n",
       "    </tr>\n",
       "    <tr>\n",
       "      <th>12</th>\n",
       "      <td>CHEMBL1200633</td>\n",
       "      <td>IVERMECTIN</td>\n",
       "      <td>CO[C@H]1C[C@H](O[C@H]2[C@H](C)O[C@@H](O[C@@H]3...</td>\n",
       "      <td>860.49</td>\n",
       "      <td>5.21130</td>\n",
       "      <td>7</td>\n",
       "      <td>170.06</td>\n",
       "      <td>3</td>\n",
       "      <td>14</td>\n",
       "      <td>61</td>\n",
       "    </tr>\n",
       "    <tr>\n",
       "      <th>10</th>\n",
       "      <td>CHEMBL374478</td>\n",
       "      <td>RIFAMPIN</td>\n",
       "      <td>CO[C@H]1/C=C/O[C@@]2(C)Oc3c(C)c(O)c4c(O)c(c(/C...</td>\n",
       "      <td>822.41</td>\n",
       "      <td>4.33542</td>\n",
       "      <td>4</td>\n",
       "      <td>220.15</td>\n",
       "      <td>6</td>\n",
       "      <td>15</td>\n",
       "      <td>59</td>\n",
       "    </tr>\n",
       "    <tr>\n",
       "      <th>13</th>\n",
       "      <td>CHEMBL529</td>\n",
       "      <td>AZITHROMYCIN</td>\n",
       "      <td>CC[C@H]1OC(=O)[C@H](C)[C@@H](O[C@H]2C[C@@](C)(...</td>\n",
       "      <td>748.51</td>\n",
       "      <td>1.90070</td>\n",
       "      <td>7</td>\n",
       "      <td>180.08</td>\n",
       "      <td>5</td>\n",
       "      <td>14</td>\n",
       "      <td>52</td>\n",
       "    </tr>\n",
       "  </tbody>\n",
       "</table>\n",
       "</div>"
      ],
      "text/plain": [
       "        chembl_id       pref_name   \n",
       "2       CHEMBL160    CYCLOSPORINE  \\\n",
       "7    CHEMBL267345  AMPHOTERICIN B   \n",
       "12  CHEMBL1200633      IVERMECTIN   \n",
       "10   CHEMBL374478        RIFAMPIN   \n",
       "13      CHEMBL529    AZITHROMYCIN   \n",
       "\n",
       "                                     canonical_smiles  MW (Da)    ALogP   \n",
       "2   C/C=C/C[C@@H](C)[C@@H](O)[C@H]1C(=O)N[C@@H](CC...  1201.84  3.26900  \\\n",
       "7   C[C@@H]1[C@H](O)[C@@H](C)/C=C/C=C/C=C/C=C/C=C/...   923.49  0.71170   \n",
       "12  CO[C@H]1C[C@H](O[C@H]2[C@H](C)O[C@@H](O[C@@H]3...   860.49  5.21130   \n",
       "10  CO[C@H]1/C=C/O[C@@]2(C)Oc3c(C)c(O)c4c(O)c(c(/C...   822.41  4.33542   \n",
       "13  CC[C@H]1OC(=O)[C@H](C)[C@@H](O[C@H]2C[C@@](C)(...   748.51  1.90070   \n",
       "\n",
       "    Rotatable bonds    TPSA  HBD  HBA  HAC  \n",
       "2                15  278.80    5   12   85  \n",
       "7                 3  319.61   12   17   65  \n",
       "12                7  170.06    3   14   61  \n",
       "10                4  220.15    6   15   59  \n",
       "13                7  180.08    5   14   52  "
      ]
     },
     "execution_count": 9,
     "metadata": {},
     "output_type": "execute_result"
    }
   ],
   "source": [
    "chemphys_df.sort_values(by=[\"MW (Da)\"], ascending=False).head(5)"
   ]
  },
  {
   "cell_type": "code",
   "execution_count": null,
   "metadata": {},
   "outputs": [],
   "source": []
  }
 ],
 "metadata": {
  "kernelspec": {
   "display_name": "scrap",
   "language": "python",
   "name": "python3"
  },
  "language_info": {
   "codemirror_mode": {
    "name": "ipython",
    "version": 3
   },
   "file_extension": ".py",
   "mimetype": "text/x-python",
   "name": "python",
   "nbconvert_exporter": "python",
   "pygments_lexer": "ipython3",
   "version": "3.9.16"
  }
 },
 "nbformat": 4,
 "nbformat_minor": 2
}
