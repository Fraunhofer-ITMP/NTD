{
 "cells": [
  {
   "cell_type": "markdown",
   "metadata": {},
   "source": [
    "# Chemical similairty across compound library"
   ]
  },
  {
   "cell_type": "markdown",
   "metadata": {},
   "source": [
    "### Import modules"
   ]
  },
  {
   "cell_type": "code",
   "execution_count": 1,
   "metadata": {},
   "outputs": [],
   "source": [
    "import pandas as pd\n",
    "from tqdm import tqdm\n",
    "import rdkit\n",
    "from rdkit import RDLogger\n",
    "from rdkit.Chem import PandasTools\n",
    "\n",
    "tqdm.pandas()"
   ]
  },
  {
   "cell_type": "code",
   "execution_count": 2,
   "metadata": {},
   "outputs": [],
   "source": [
    "import warnings\n",
    "\n",
    "warnings.simplefilter(\"ignore\")\n",
    "RDLogger.DisableLog(\"rdApp.*\")  # suppress rdkit warnings"
   ]
  },
  {
   "cell_type": "markdown",
   "metadata": {},
   "source": [
    "# Load compounds libraries\n",
    "\n",
    "* Enamine - https://enamine.net/ (Login required)\n",
    "* ReFRAMEDB - https://reframedb.org/ (Open source)\n",
    "* COCONUT - https://coconut.naturalproducts.net/ (Open source)"
   ]
  },
  {
   "cell_type": "code",
   "execution_count": 3,
   "metadata": {},
   "outputs": [
    {
     "data": {
      "text/html": [
       "<div>\n",
       "<style scoped>\n",
       "    .dataframe tbody tr th:only-of-type {\n",
       "        vertical-align: middle;\n",
       "    }\n",
       "\n",
       "    .dataframe tbody tr th {\n",
       "        vertical-align: top;\n",
       "    }\n",
       "\n",
       "    .dataframe thead th {\n",
       "        text-align: right;\n",
       "    }\n",
       "</style>\n",
       "<table border=\"1\" class=\"dataframe\">\n",
       "  <thead>\n",
       "    <tr style=\"text-align: right;\">\n",
       "      <th></th>\n",
       "      <th>ID</th>\n",
       "      <th>Smile</th>\n",
       "      <th>Name</th>\n",
       "      <th>Molecule (Canonical)</th>\n",
       "    </tr>\n",
       "  </thead>\n",
       "  <tbody>\n",
       "    <tr>\n",
       "      <th>0</th>\n",
       "      <td>Z840028898</td>\n",
       "      <td>CS(=O)(=O)NCCCN(CC1=CC=CO1)C2CCCC2</td>\n",
       "      <td>N-{3-[cyclopentyl(furan-2-ylmethyl)amino]propy...</td>\n",
       "      <td>CS(=O)(=O)NCCCN(Cc1ccco1)C1CCCC1</td>\n",
       "    </tr>\n",
       "  </tbody>\n",
       "</table>\n",
       "</div>"
      ],
      "text/plain": [
       "           ID                               Smile   \n",
       "0  Z840028898  CS(=O)(=O)NCCCN(CC1=CC=CO1)C2CCCC2  \\\n",
       "\n",
       "                                                Name   \n",
       "0  N-{3-[cyclopentyl(furan-2-ylmethyl)amino]propy...  \\\n",
       "\n",
       "               Molecule (Canonical)  \n",
       "0  CS(=O)(=O)NCCCN(Cc1ccco1)C1CCCC1  "
      ]
     },
     "execution_count": 3,
     "metadata": {},
     "output_type": "execute_result"
    }
   ],
   "source": [
    "enamine_df = pd.read_excel(\n",
    "    \"../data/library/Enamine_smiles.xlsx\",\n",
    "    engine=\"openpyxl\",\n",
    ")\n",
    "enamine_df.drop_duplicates(subset=\"ID\", inplace=True)\n",
    "\n",
    "\n",
    "enamine_df.head(1)"
   ]
  },
  {
   "cell_type": "code",
   "execution_count": 4,
   "metadata": {},
   "outputs": [
    {
     "data": {
      "text/html": [
       "<div>\n",
       "<style scoped>\n",
       "    .dataframe tbody tr th:only-of-type {\n",
       "        vertical-align: middle;\n",
       "    }\n",
       "\n",
       "    .dataframe tbody tr th {\n",
       "        vertical-align: top;\n",
       "    }\n",
       "\n",
       "    .dataframe thead th {\n",
       "        text-align: right;\n",
       "    }\n",
       "</style>\n",
       "<table border=\"1\" class=\"dataframe\">\n",
       "  <thead>\n",
       "    <tr style=\"text-align: right;\">\n",
       "      <th></th>\n",
       "      <th>calibr_id</th>\n",
       "      <th>rfm_id</th>\n",
       "      <th>smile</th>\n",
       "      <th>canonical_ikey</th>\n",
       "      <th>name</th>\n",
       "      <th>source</th>\n",
       "      <th>source_id</th>\n",
       "      <th>status</th>\n",
       "      <th>reframedb_url</th>\n",
       "    </tr>\n",
       "  </thead>\n",
       "  <tbody>\n",
       "    <tr>\n",
       "      <th>0</th>\n",
       "      <td>CBR-001-574-225-3</td>\n",
       "      <td>RFM-003-021-7</td>\n",
       "      <td>COc1cc2ncnc(Oc3cccc(NC(=O)Nc4cc(C(C)(C)C(F)(F)...</td>\n",
       "      <td>DKNUPRMJNUQNHR</td>\n",
       "      <td>RXDX-105</td>\n",
       "      <td>Selleck Chemicals</td>\n",
       "      <td>S8015</td>\n",
       "      <td>plated and available for follow-up</td>\n",
       "      <td>=HYPERLINK(\"https://reframedb.org//compound_da...</td>\n",
       "    </tr>\n",
       "  </tbody>\n",
       "</table>\n",
       "</div>"
      ],
      "text/plain": [
       "           calibr_id         rfm_id   \n",
       "0  CBR-001-574-225-3  RFM-003-021-7  \\\n",
       "\n",
       "                                               smile  canonical_ikey   \n",
       "0  COc1cc2ncnc(Oc3cccc(NC(=O)Nc4cc(C(C)(C)C(F)(F)...  DKNUPRMJNUQNHR  \\\n",
       "\n",
       "       name             source source_id                              status   \n",
       "0  RXDX-105  Selleck Chemicals     S8015  plated and available for follow-up  \\\n",
       "\n",
       "                                       reframedb_url  \n",
       "0  =HYPERLINK(\"https://reframedb.org//compound_da...  "
      ]
     },
     "execution_count": 4,
     "metadata": {},
     "output_type": "execute_result"
    }
   ],
   "source": [
    "reframe_df = pd.read_csv(\"../data/library/reframe_smiles_list.csv\")\n",
    "reframe_df.drop_duplicates(subset=\"calibr_id\", inplace=True)\n",
    "reframe_df.head(1)"
   ]
  },
  {
   "cell_type": "code",
   "execution_count": 5,
   "metadata": {},
   "outputs": [],
   "source": [
    "# Remove molecules with no smiles\n",
    "reframe_df = reframe_df[reframe_df[\"smile\"] != \"failed smile to can smile conversion\"]"
   ]
  },
  {
   "cell_type": "code",
   "execution_count": 6,
   "metadata": {},
   "outputs": [
    {
     "data": {
      "text/html": [
       "<div>\n",
       "<style scoped>\n",
       "    .dataframe tbody tr th:only-of-type {\n",
       "        vertical-align: middle;\n",
       "    }\n",
       "\n",
       "    .dataframe tbody tr th {\n",
       "        vertical-align: top;\n",
       "    }\n",
       "\n",
       "    .dataframe thead th {\n",
       "        text-align: right;\n",
       "    }\n",
       "</style>\n",
       "<table border=\"1\" class=\"dataframe\">\n",
       "  <thead>\n",
       "    <tr style=\"text-align: right;\">\n",
       "      <th></th>\n",
       "      <th>coconut_id</th>\n",
       "      <th>inchi</th>\n",
       "      <th>inchikey</th>\n",
       "      <th>SMILES</th>\n",
       "      <th>sugar_free_smiles</th>\n",
       "      <th>molecular_formula</th>\n",
       "      <th>molecular_weight</th>\n",
       "      <th>citationDOI</th>\n",
       "      <th>textTaxa</th>\n",
       "      <th>name</th>\n",
       "      <th>...</th>\n",
       "      <th>number_of_rings</th>\n",
       "      <th>total_atom_number</th>\n",
       "      <th>bond_count</th>\n",
       "      <th>found_in_databases</th>\n",
       "      <th>murko_framework</th>\n",
       "      <th>alogp</th>\n",
       "      <th>apol</th>\n",
       "      <th>topoPSA</th>\n",
       "      <th>ID</th>\n",
       "      <th>ROMol</th>\n",
       "    </tr>\n",
       "  </thead>\n",
       "  <tbody>\n",
       "    <tr>\n",
       "      <th>1</th>\n",
       "      <td>CNP0000002</td>\n",
       "      <td>InChI=1S/C27H36N2O15S/c1-5-12(29-9-45)26(37)44...</td>\n",
       "      <td>FJEMIESGEMWDOB-UHFFFAOYSA-N</td>\n",
       "      <td>O=C(O)C=1C(=O)C(O)(CC(=O)C1N)C2OC(COC(=O)C)C(O...</td>\n",
       "      <td>O=C(O)C=1C(=O)C(O)CC(=O)C1N</td>\n",
       "      <td>C27H36N2O15S</td>\n",
       "      <td>660.6463016716552</td>\n",
       "      <td>[]</td>\n",
       "      <td>[notax]</td>\n",
       "      <td>5-{6-[(acetyloxy)methyl]-3-hydroxy-4-[(5-hydro...</td>\n",
       "      <td>...</td>\n",
       "      <td></td>\n",
       "      <td>81</td>\n",
       "      <td>47</td>\n",
       "      <td>[chemspidernp]</td>\n",
       "      <td>C1=CCCCC1</td>\n",
       "      <td>-2.4338000000000015</td>\n",
       "      <td>88.65454800000002</td>\n",
       "      <td>298.83</td>\n",
       "      <td></td>\n",
       "      <td>&lt;rdkit.Chem.rdchem.Mol object at 0x00000158472...</td>\n",
       "    </tr>\n",
       "  </tbody>\n",
       "</table>\n",
       "<p>1 rows × 25 columns</p>\n",
       "</div>"
      ],
      "text/plain": [
       "   coconut_id                                              inchi   \n",
       "1  CNP0000002  InChI=1S/C27H36N2O15S/c1-5-12(29-9-45)26(37)44...  \\\n",
       "\n",
       "                      inchikey   \n",
       "1  FJEMIESGEMWDOB-UHFFFAOYSA-N  \\\n",
       "\n",
       "                                              SMILES   \n",
       "1  O=C(O)C=1C(=O)C(O)(CC(=O)C1N)C2OC(COC(=O)C)C(O...  \\\n",
       "\n",
       "             sugar_free_smiles molecular_formula   molecular_weight   \n",
       "1  O=C(O)C=1C(=O)C(O)CC(=O)C1N      C27H36N2O15S  660.6463016716552  \\\n",
       "\n",
       "  citationDOI textTaxa                                               name   \n",
       "1          []  [notax]  5-{6-[(acetyloxy)methyl]-3-hydroxy-4-[(5-hydro...  \\\n",
       "\n",
       "   ... number_of_rings total_atom_number bond_count found_in_databases   \n",
       "1  ...                                81         47     [chemspidernp]  \\\n",
       "\n",
       "  murko_framework                alogp               apol topoPSA ID   \n",
       "1       C1=CCCCC1  -2.4338000000000015  88.65454800000002  298.83     \\\n",
       "\n",
       "                                               ROMol  \n",
       "1  <rdkit.Chem.rdchem.Mol object at 0x00000158472...  \n",
       "\n",
       "[1 rows x 25 columns]"
      ]
     },
     "execution_count": 6,
     "metadata": {},
     "output_type": "execute_result"
    }
   ],
   "source": [
    "# time consuming\n",
    "coconut_df = PandasTools.LoadSDF(\n",
    "    \"../data/library/COCONUT_DB.sdf\"\n",
    ")\n",
    "coconut_df.drop_duplicates(subset=\"coconut_id\", inplace=True)\n",
    "coconut_df.head(1)"
   ]
  },
  {
   "cell_type": "code",
   "execution_count": 7,
   "metadata": {},
   "outputs": [
    {
     "data": {
      "text/html": [
       "<div>\n",
       "<style scoped>\n",
       "    .dataframe tbody tr th:only-of-type {\n",
       "        vertical-align: middle;\n",
       "    }\n",
       "\n",
       "    .dataframe tbody tr th {\n",
       "        vertical-align: top;\n",
       "    }\n",
       "\n",
       "    .dataframe thead th {\n",
       "        text-align: right;\n",
       "    }\n",
       "</style>\n",
       "<table border=\"1\" class=\"dataframe\">\n",
       "  <thead>\n",
       "    <tr style=\"text-align: right;\">\n",
       "      <th></th>\n",
       "      <th>chembl_id</th>\n",
       "      <th>pref_name</th>\n",
       "      <th>canonical_smiles</th>\n",
       "      <th>standard_inchi</th>\n",
       "      <th>standard_inchi_key</th>\n",
       "      <th>max_phase</th>\n",
       "      <th>indication_class</th>\n",
       "      <th>withdrawn_flag</th>\n",
       "      <th>black_box_warning</th>\n",
       "      <th>drugind_id</th>\n",
       "      <th>max_phase_for_ind</th>\n",
       "      <th>mesh_id</th>\n",
       "      <th>mesh_heading</th>\n",
       "      <th>ref_type</th>\n",
       "      <th>ref_id</th>\n",
       "      <th>ref_url</th>\n",
       "    </tr>\n",
       "  </thead>\n",
       "  <tbody>\n",
       "    <tr>\n",
       "      <th>0</th>\n",
       "      <td>CHEMBL1200689</td>\n",
       "      <td>NITRIC OXIDE</td>\n",
       "      <td>[N]=O</td>\n",
       "      <td>InChI=1S/NO/c1-2</td>\n",
       "      <td>MWUXSHHQAYIFBG-UHFFFAOYSA-N</td>\n",
       "      <td>4.0</td>\n",
       "      <td>NaN</td>\n",
       "      <td>0</td>\n",
       "      <td>0</td>\n",
       "      <td>23580</td>\n",
       "      <td>3.0</td>\n",
       "      <td>D016773</td>\n",
       "      <td>Leishmaniasis, Cutaneous</td>\n",
       "      <td>ClinicalTrials</td>\n",
       "      <td>NCT00317629</td>\n",
       "      <td>https://clinicaltrials.gov/ct2/results?id=%22N...</td>\n",
       "    </tr>\n",
       "    <tr>\n",
       "      <th>1</th>\n",
       "      <td>CHEMBL131</td>\n",
       "      <td>PREDNISOLONE</td>\n",
       "      <td>C[C@]12C=CC(=O)C=C1CC[C@@H]1[C@@H]2[C@@H](O)C[...</td>\n",
       "      <td>InChI=1S/C21H28O5/c1-19-7-5-13(23)9-12(19)3-4-...</td>\n",
       "      <td>OIGNJSKKLXVSLS-VWUMJDOOSA-N</td>\n",
       "      <td>4.0</td>\n",
       "      <td>Glucocorticoid</td>\n",
       "      <td>0</td>\n",
       "      <td>0</td>\n",
       "      <td>24801</td>\n",
       "      <td>2.0</td>\n",
       "      <td>D007918</td>\n",
       "      <td>Leprosy</td>\n",
       "      <td>ClinicalTrials</td>\n",
       "      <td>NCT00919542,NCT00919776,NCT00919815</td>\n",
       "      <td>https://clinicaltrials.gov/ct2/results?id=%22N...</td>\n",
       "    </tr>\n",
       "  </tbody>\n",
       "</table>\n",
       "</div>"
      ],
      "text/plain": [
       "       chembl_id     pref_name   \n",
       "0  CHEMBL1200689  NITRIC OXIDE  \\\n",
       "1      CHEMBL131  PREDNISOLONE   \n",
       "\n",
       "                                    canonical_smiles   \n",
       "0                                              [N]=O  \\\n",
       "1  C[C@]12C=CC(=O)C=C1CC[C@@H]1[C@@H]2[C@@H](O)C[...   \n",
       "\n",
       "                                      standard_inchi   \n",
       "0                                   InChI=1S/NO/c1-2  \\\n",
       "1  InChI=1S/C21H28O5/c1-19-7-5-13(23)9-12(19)3-4-...   \n",
       "\n",
       "            standard_inchi_key  max_phase indication_class  withdrawn_flag   \n",
       "0  MWUXSHHQAYIFBG-UHFFFAOYSA-N        4.0              NaN               0  \\\n",
       "1  OIGNJSKKLXVSLS-VWUMJDOOSA-N        4.0   Glucocorticoid               0   \n",
       "\n",
       "   black_box_warning  drugind_id  max_phase_for_ind  mesh_id   \n",
       "0                  0       23580                3.0  D016773  \\\n",
       "1                  0       24801                2.0  D007918   \n",
       "\n",
       "               mesh_heading        ref_type   \n",
       "0  Leishmaniasis, Cutaneous  ClinicalTrials  \\\n",
       "1                   Leprosy  ClinicalTrials   \n",
       "\n",
       "                                ref_id   \n",
       "0                          NCT00317629  \\\n",
       "1  NCT00919542,NCT00919776,NCT00919815   \n",
       "\n",
       "                                             ref_url  \n",
       "0  https://clinicaltrials.gov/ct2/results?id=%22N...  \n",
       "1  https://clinicaltrials.gov/ct2/results?id=%22N...  "
      ]
     },
     "execution_count": 7,
     "metadata": {},
     "output_type": "execute_result"
    }
   ],
   "source": [
    "nd_compounds = pd.read_csv(\"../data/ntd_drugs.tsv\", sep=\"\\t\")\n",
    "nd_compounds.drop_duplicates(subset=[\"chembl_id\"], inplace=True)\n",
    "nd_compounds.head(2)"
   ]
  },
  {
   "cell_type": "markdown",
   "metadata": {},
   "source": [
    "# Case 1: Miltefosine (13 fatty acid chain)"
   ]
  },
  {
   "cell_type": "code",
   "execution_count": 8,
   "metadata": {},
   "outputs": [
    {
     "data": {
      "text/html": [
       "<div>\n",
       "<style scoped>\n",
       "    .dataframe tbody tr th:only-of-type {\n",
       "        vertical-align: middle;\n",
       "    }\n",
       "\n",
       "    .dataframe tbody tr th {\n",
       "        vertical-align: top;\n",
       "    }\n",
       "\n",
       "    .dataframe thead th {\n",
       "        text-align: right;\n",
       "    }\n",
       "</style>\n",
       "<table border=\"1\" class=\"dataframe\">\n",
       "  <thead>\n",
       "    <tr style=\"text-align: right;\">\n",
       "      <th></th>\n",
       "      <th>chembl_id</th>\n",
       "      <th>pref_name</th>\n",
       "      <th>canonical_smiles</th>\n",
       "      <th>standard_inchi</th>\n",
       "      <th>standard_inchi_key</th>\n",
       "      <th>max_phase</th>\n",
       "      <th>indication_class</th>\n",
       "      <th>withdrawn_flag</th>\n",
       "      <th>black_box_warning</th>\n",
       "      <th>drugind_id</th>\n",
       "      <th>max_phase_for_ind</th>\n",
       "      <th>mesh_id</th>\n",
       "      <th>mesh_heading</th>\n",
       "      <th>ref_type</th>\n",
       "      <th>ref_id</th>\n",
       "      <th>ref_url</th>\n",
       "    </tr>\n",
       "  </thead>\n",
       "  <tbody>\n",
       "    <tr>\n",
       "      <th>5</th>\n",
       "      <td>CHEMBL125</td>\n",
       "      <td>MILTEFOSINE</td>\n",
       "      <td>CCCCCCCCCCCCCCCCOP(=O)([O-])OCC[N+](C)(C)C</td>\n",
       "      <td>InChI=1S/C21H46NO4P/c1-5-6-7-8-9-10-11-12-13-1...</td>\n",
       "      <td>PQLXHQMOHUQAKB-UHFFFAOYSA-N</td>\n",
       "      <td>4.0</td>\n",
       "      <td>NaN</td>\n",
       "      <td>0</td>\n",
       "      <td>1</td>\n",
       "      <td>40826</td>\n",
       "      <td>4.0</td>\n",
       "      <td>D007898</td>\n",
       "      <td>Leishmaniasis, Visceral</td>\n",
       "      <td>ClinicalTrials</td>\n",
       "      <td>NCT00370825,NCT00371995,NCT00696969,NCT0106744...</td>\n",
       "      <td>https://clinicaltrials.gov/ct2/results?id=%22N...</td>\n",
       "    </tr>\n",
       "  </tbody>\n",
       "</table>\n",
       "</div>"
      ],
      "text/plain": [
       "   chembl_id    pref_name                            canonical_smiles   \n",
       "5  CHEMBL125  MILTEFOSINE  CCCCCCCCCCCCCCCCOP(=O)([O-])OCC[N+](C)(C)C  \\\n",
       "\n",
       "                                      standard_inchi   \n",
       "5  InChI=1S/C21H46NO4P/c1-5-6-7-8-9-10-11-12-13-1...  \\\n",
       "\n",
       "            standard_inchi_key  max_phase indication_class  withdrawn_flag   \n",
       "5  PQLXHQMOHUQAKB-UHFFFAOYSA-N        4.0              NaN               0  \\\n",
       "\n",
       "   black_box_warning  drugind_id  max_phase_for_ind  mesh_id   \n",
       "5                  1       40826                4.0  D007898  \\\n",
       "\n",
       "              mesh_heading        ref_type   \n",
       "5  Leishmaniasis, Visceral  ClinicalTrials  \\\n",
       "\n",
       "                                              ref_id   \n",
       "5  NCT00370825,NCT00371995,NCT00696969,NCT0106744...  \\\n",
       "\n",
       "                                             ref_url  \n",
       "5  https://clinicaltrials.gov/ct2/results?id=%22N...  "
      ]
     },
     "execution_count": 8,
     "metadata": {},
     "output_type": "execute_result"
    }
   ],
   "source": [
    "nd_compounds[nd_compounds[\"pref_name\"] == \"MILTEFOSINE\"]"
   ]
  },
  {
   "cell_type": "code",
   "execution_count": 9,
   "metadata": {},
   "outputs": [],
   "source": [
    "milefosin_drug = rdkit.Chem.MolFromSmiles(\n",
    "    nd_compounds[nd_compounds[\"pref_name\"] == \"MILTEFOSINE\"][\"canonical_smiles\"].values[\n",
    "        0\n",
    "    ]\n",
    ")"
   ]
  },
  {
   "cell_type": "code",
   "execution_count": 10,
   "metadata": {},
   "outputs": [
    {
     "name": "stderr",
     "output_type": "stream",
     "text": [
      "100%|██████████| 200057/200057 [11:07<00:00, 299.68it/s]\n"
     ]
    }
   ],
   "source": [
    "# Compound tanimoto similarity for miltefosine\n",
    "enamine_df[\"tanimoto_miltefosine\"] = enamine_df[\"Smile\"].progress_apply(\n",
    "    lambda x: rdkit.DataStructs.FingerprintSimilarity(\n",
    "        rdkit.Chem.RDKFingerprint(milefosin_drug),\n",
    "        rdkit.Chem.RDKFingerprint(rdkit.Chem.MolFromSmiles(x)),\n",
    "    )\n",
    ")"
   ]
  },
  {
   "cell_type": "code",
   "execution_count": 11,
   "metadata": {},
   "outputs": [
    {
     "name": "stderr",
     "output_type": "stream",
     "text": [
      "100%|██████████| 12782/12782 [01:03<00:00, 199.95it/s]\n"
     ]
    }
   ],
   "source": [
    "reframe_df[\"tanimoto_miltefosine\"] = reframe_df[\"smile\"].progress_apply(\n",
    "    lambda x: rdkit.DataStructs.FingerprintSimilarity(\n",
    "        rdkit.Chem.RDKFingerprint(milefosin_drug),\n",
    "        rdkit.Chem.RDKFingerprint(rdkit.Chem.MolFromSmiles(x)),\n",
    "    )\n",
    ")"
   ]
  },
  {
   "cell_type": "code",
   "execution_count": 12,
   "metadata": {},
   "outputs": [
    {
     "name": "stderr",
     "output_type": "stream",
     "text": [
      "100%|██████████| 406924/406924 [52:10<00:00, 130.00it/s] \n"
     ]
    }
   ],
   "source": [
    "coconut_df[\"tanimoto_miltefosine\"] = coconut_df[\"SMILES\"].progress_apply(\n",
    "    lambda x: rdkit.DataStructs.FingerprintSimilarity(\n",
    "        rdkit.Chem.RDKFingerprint(milefosin_drug),\n",
    "        rdkit.Chem.RDKFingerprint(rdkit.Chem.MolFromSmiles(x)),\n",
    "    )\n",
    ")"
   ]
  },
  {
   "cell_type": "markdown",
   "metadata": {},
   "source": [
    "# Visualize Tanimoto distribution"
   ]
  },
  {
   "cell_type": "code",
   "execution_count": 13,
   "metadata": {},
   "outputs": [],
   "source": [
    "import matplotlib.pyplot as plt\n",
    "import seaborn as sns"
   ]
  },
  {
   "cell_type": "code",
   "execution_count": 16,
   "metadata": {},
   "outputs": [
    {
     "data": {
      "image/png": "[encoded data removed]",
      "text/plain": [
       "<Figure size 640x480 with 1 Axes>"
      ]
     },
     "metadata": {},
     "output_type": "display_data"
    }
   ],
   "source": [
    "sns.histplot(\n",
    "    enamine_df[\"tanimoto_miltefosine\"],\n",
    "    kde=True,\n",
    "    bins=100,\n",
    "    color=\"#abc6a6\",\n",
    "    alpha=0.5,\n",
    "    label=\"Enamine\",\n",
    ")\n",
    "sns.histplot(\n",
    "    reframe_df[\"tanimoto_miltefosine\"],\n",
    "    kde=True,\n",
    "    bins=100,\n",
    "    color=\"#e7ecf0\",\n",
    "    alpha=0.5,\n",
    "    label=\"Reframe\",\n",
    ")\n",
    "sns.histplot(\n",
    "    coconut_df[\"tanimoto_miltefosine\"],\n",
    "    kde=True,\n",
    "    bins=100,\n",
    "    color=\"#ffbdbe\",\n",
    "    alpha=0.5,\n",
    "    label=\"COCONUT\",\n",
    ")\n",
    "plt.xlabel(\"Tanimoto similarity\")\n",
    "plt.ylabel(\"Frequency\")\n",
    "plt.legend()\n",
    "plt.title(\"Tanimoto similarity to miltefosine\")\n",
    "plt.tight_layout()\n",
    "plt.savefig(\"../figures/tanimoto_miltefosine.jpg\", dpi=400)\n",
    "plt.show()"
   ]
  },
  {
   "cell_type": "markdown",
   "metadata": {},
   "source": [
    "# Case 2: Streptomycin"
   ]
  },
  {
   "cell_type": "code",
   "execution_count": 17,
   "metadata": {},
   "outputs": [
    {
     "data": {
      "text/html": [
       "<div>\n",
       "<style scoped>\n",
       "    .dataframe tbody tr th:only-of-type {\n",
       "        vertical-align: middle;\n",
       "    }\n",
       "\n",
       "    .dataframe tbody tr th {\n",
       "        vertical-align: top;\n",
       "    }\n",
       "\n",
       "    .dataframe thead th {\n",
       "        text-align: right;\n",
       "    }\n",
       "</style>\n",
       "<table border=\"1\" class=\"dataframe\">\n",
       "  <thead>\n",
       "    <tr style=\"text-align: right;\">\n",
       "      <th></th>\n",
       "      <th>chembl_id</th>\n",
       "      <th>pref_name</th>\n",
       "      <th>canonical_smiles</th>\n",
       "      <th>standard_inchi</th>\n",
       "      <th>standard_inchi_key</th>\n",
       "      <th>max_phase</th>\n",
       "      <th>indication_class</th>\n",
       "      <th>withdrawn_flag</th>\n",
       "      <th>black_box_warning</th>\n",
       "      <th>drugind_id</th>\n",
       "      <th>max_phase_for_ind</th>\n",
       "      <th>mesh_id</th>\n",
       "      <th>mesh_heading</th>\n",
       "      <th>ref_type</th>\n",
       "      <th>ref_id</th>\n",
       "      <th>ref_url</th>\n",
       "    </tr>\n",
       "  </thead>\n",
       "  <tbody>\n",
       "    <tr>\n",
       "      <th>60</th>\n",
       "      <td>CHEMBL372795</td>\n",
       "      <td>STREPTOMYCIN</td>\n",
       "      <td>CN[C@@H]1[C@H](O[C@H]2[C@H](O[C@H]3[C@H](O)[C@...</td>\n",
       "      <td>InChI=1S/C21H39N7O12/c1-5-21(36,4-30)16(40-17-...</td>\n",
       "      <td>UCSJYZPVAKXKNQ-HZYVHMACSA-N</td>\n",
       "      <td>4.0</td>\n",
       "      <td>Antibacterial (tuberculostatic)</td>\n",
       "      <td>0</td>\n",
       "      <td>1</td>\n",
       "      <td>141214</td>\n",
       "      <td>2.0</td>\n",
       "      <td>D054312</td>\n",
       "      <td>Buruli Ulcer</td>\n",
       "      <td>ClinicalTrials</td>\n",
       "      <td>NCT01659437</td>\n",
       "      <td>https://clinicaltrials.gov/ct2/results?id=%22N...</td>\n",
       "    </tr>\n",
       "  </tbody>\n",
       "</table>\n",
       "</div>"
      ],
      "text/plain": [
       "       chembl_id     pref_name   \n",
       "60  CHEMBL372795  STREPTOMYCIN  \\\n",
       "\n",
       "                                     canonical_smiles   \n",
       "60  CN[C@@H]1[C@H](O[C@H]2[C@H](O[C@H]3[C@H](O)[C@...  \\\n",
       "\n",
       "                                       standard_inchi   \n",
       "60  InChI=1S/C21H39N7O12/c1-5-21(36,4-30)16(40-17-...  \\\n",
       "\n",
       "             standard_inchi_key  max_phase                 indication_class   \n",
       "60  UCSJYZPVAKXKNQ-HZYVHMACSA-N        4.0  Antibacterial (tuberculostatic)  \\\n",
       "\n",
       "    withdrawn_flag  black_box_warning  drugind_id  max_phase_for_ind  mesh_id   \n",
       "60               0                  1      141214                2.0  D054312  \\\n",
       "\n",
       "    mesh_heading        ref_type       ref_id   \n",
       "60  Buruli Ulcer  ClinicalTrials  NCT01659437  \\\n",
       "\n",
       "                                              ref_url  \n",
       "60  https://clinicaltrials.gov/ct2/results?id=%22N...  "
      ]
     },
     "execution_count": 17,
     "metadata": {},
     "output_type": "execute_result"
    }
   ],
   "source": [
    "nd_compounds[nd_compounds[\"pref_name\"] == \"STREPTOMYCIN\"]"
   ]
  },
  {
   "cell_type": "code",
   "execution_count": 18,
   "metadata": {},
   "outputs": [],
   "source": [
    "streptomycin_drug = rdkit.Chem.MolFromSmiles(\n",
    "    nd_compounds[nd_compounds[\"pref_name\"] == \"STREPTOMYCIN\"][\"canonical_smiles\"].values[\n",
    "        0\n",
    "    ]\n",
    ")"
   ]
  },
  {
   "cell_type": "code",
   "execution_count": 19,
   "metadata": {},
   "outputs": [
    {
     "name": "stderr",
     "output_type": "stream",
     "text": [
      "  0%|          | 0/200057 [00:00<?, ?it/s]"
     ]
    },
    {
     "name": "stderr",
     "output_type": "stream",
     "text": [
      "100%|██████████| 200057/200057 [25:40<00:00, 129.90it/s]\n"
     ]
    }
   ],
   "source": [
    "# Compound tanimoto similarity for miltefosine\n",
    "enamine_df[\"tanimoto_streptomycin\"] = enamine_df[\"Smile\"].progress_apply(\n",
    "    lambda x: rdkit.DataStructs.FingerprintSimilarity(\n",
    "        rdkit.Chem.RDKFingerprint(streptomycin_drug),\n",
    "        rdkit.Chem.RDKFingerprint(rdkit.Chem.MolFromSmiles(x)),\n",
    "    )\n",
    ")"
   ]
  },
  {
   "cell_type": "code",
   "execution_count": 20,
   "metadata": {},
   "outputs": [
    {
     "name": "stderr",
     "output_type": "stream",
     "text": [
      "100%|██████████| 12782/12782 [02:18<00:00, 92.57it/s] \n"
     ]
    }
   ],
   "source": [
    "reframe_df[\"tanimoto_streptomycin\"] = reframe_df[\"smile\"].progress_apply(\n",
    "    lambda x: rdkit.DataStructs.FingerprintSimilarity(\n",
    "        rdkit.Chem.RDKFingerprint(streptomycin_drug),\n",
    "        rdkit.Chem.RDKFingerprint(rdkit.Chem.MolFromSmiles(x)),\n",
    "    )\n",
    ")"
   ]
  },
  {
   "cell_type": "code",
   "execution_count": 21,
   "metadata": {},
   "outputs": [
    {
     "name": "stderr",
     "output_type": "stream",
     "text": [
      "100%|██████████| 406924/406924 [1:25:17<00:00, 79.51it/s]  \n"
     ]
    }
   ],
   "source": [
    "coconut_df[\"tanimoto_streptomycin\"] = coconut_df[\"SMILES\"].progress_apply(\n",
    "    lambda x: rdkit.DataStructs.FingerprintSimilarity(\n",
    "        rdkit.Chem.RDKFingerprint(streptomycin_drug),\n",
    "        rdkit.Chem.RDKFingerprint(rdkit.Chem.MolFromSmiles(x)),\n",
    "    )\n",
    ")"
   ]
  },
  {
   "cell_type": "code",
   "execution_count": 22,
   "metadata": {},
   "outputs": [
    {
     "data": {
      "image/png": "[encoded data removed]",
      "text/plain": [
       "<Figure size 640x480 with 1 Axes>"
      ]
     },
     "metadata": {},
     "output_type": "display_data"
    }
   ],
   "source": [
    "sns.histplot(\n",
    "    enamine_df[\"tanimoto_streptomycin\"],\n",
    "    kde=True,\n",
    "    bins=100,\n",
    "    color=\"#abc6a6\",\n",
    "    alpha=0.5,\n",
    "    label=\"Enamine\",\n",
    ")\n",
    "sns.histplot(\n",
    "    reframe_df[\"tanimoto_streptomycin\"],\n",
    "    kde=True,\n",
    "    bins=100,\n",
    "    color=\"#e7ecf0\",\n",
    "    alpha=0.5,\n",
    "    label=\"Reframe\",\n",
    ")\n",
    "sns.histplot(\n",
    "    coconut_df[\"tanimoto_streptomycin\"],\n",
    "    kde=True,\n",
    "    bins=100,\n",
    "    color=\"#ffbdbe\",\n",
    "    alpha=0.5,\n",
    "    label=\"COCONUT\",\n",
    ")\n",
    "plt.xlabel(\"Tanimoto similarity\")\n",
    "plt.ylabel(\"Frequency\")\n",
    "plt.legend()\n",
    "plt.title(\"Tanimoto similarity to streptomycin\")\n",
    "plt.savefig(\"../figures/tanimoto_streptomycin.jpg\", dpi=400)\n",
    "plt.tight_layout()\n",
    "plt.show()"
   ]
  },
  {
   "cell_type": "code",
   "execution_count": null,
   "metadata": {},
   "outputs": [],
   "source": []
  }
 ],
 "metadata": {
  "kernelspec": {
   "display_name": "scrap",
   "language": "python",
   "name": "scrap"
  },
  "language_info": {
   "codemirror_mode": {
    "name": "ipython",
    "version": 3
   },
   "file_extension": ".py",
   "mimetype": "text/x-python",
   "name": "python",
   "nbconvert_exporter": "python",
   "pygments_lexer": "ipython3",
   "version": "3.9.16"
  }
 },
 "nbformat": 4,
 "nbformat_minor": 2
}
